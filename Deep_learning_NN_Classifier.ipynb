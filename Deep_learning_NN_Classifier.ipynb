{
  "nbformat": 4,
  "nbformat_minor": 0,
  "metadata": {
    "colab": {
      "name": "Deep_learning_NN_Classifier.ipynb",
      "provenance": [],
      "authorship_tag": "ABX9TyPwB2rgs7A9JSTZCl7NFqZY",
      "include_colab_link": true
    },
    "kernelspec": {
      "name": "python3",
      "display_name": "Python 3"
    },
    "language_info": {
      "name": "python"
    }
  },
  "cells": [
    {
      "cell_type": "markdown",
      "metadata": {
        "id": "view-in-github",
        "colab_type": "text"
      },
      "source": [
        "<a href=\"https://colab.research.google.com/github/Boom-Ba/DataSciene/blob/main/Deep_learning_NN_Classifier.ipynb\" target=\"_parent\"><img src=\"https://colab.research.google.com/assets/colab-badge.svg\" alt=\"Open In Colab\"/></a>"
      ]
    },
    {
      "cell_type": "code",
      "metadata": {
        "id": "DZwXUMASi9_8"
      },
      "source": [
        "import tensorflow as tf\n",
        "from tensorflow.keras.models import Sequential"
      ],
      "execution_count": 1,
      "outputs": []
    },
    {
      "cell_type": "code",
      "metadata": {
        "id": "VjXY9HmTjmgc"
      },
      "source": [
        "from tensorflow.keras.layers import Dense, Conv2D, MaxPooling2D, Dropout, Flatten"
      ],
      "execution_count": 2,
      "outputs": []
    },
    {
      "cell_type": "code",
      "metadata": {
        "id": "oYu4cwt9jxmF"
      },
      "source": [
        "import numpy as np\n",
        "import matplotlib.pyplot as plt\n",
        "from matplotlib import cm\n",
        "from sklearn.datasets import make_blobs"
      ],
      "execution_count": 4,
      "outputs": []
    },
    {
      "cell_type": "code",
      "metadata": {
        "id": "-nu8ZAKTmgVG"
      },
      "source": [
        "n_samples=10000\n",
        "\n",
        "# centers=[(0.1,0.1),(0.9,0.9)]\n",
        "four_centers=[(0.95,0.95),(0.01,0.01),(0.3,0.6),(0.8,0.7)]\n",
        "#Hypothesis a random dataset with 2 features\n",
        "X,y=make_blobs(n_samples=n_samples,n_features=2,cluster_std=0.1,centers=four_centers,shuffle=False,random_state=42)"
      ],
      "execution_count": 116,
      "outputs": []
    },
    {
      "cell_type": "code",
      "metadata": {
        "colab": {
          "base_uri": "https://localhost:8080/",
          "height": 211
        },
        "id": "jillgFucokC4",
        "outputId": "fd567e3d-0790-4ab4-a309-7d9f429cf8bf"
      },
      "source": [
        "features=[]\n",
        "labels=[]\n",
        "\n",
        "for feature, label in zip(X,y):\n",
        "  #filtering \n",
        "  if (feature[0]>=0 and feature[0]<=1.0 and feature[1]>=0 and feature[1]<=1.0):\n",
        "    features.append(feature)\n",
        "    labels.append(label)\n",
        "\n",
        "#convert -> 2d Array\n",
        "X=np.array(features)\n",
        "y=np.array(labels)\n",
        "\n",
        "#visualize clustered result\n",
        "%matplotlib inline\n",
        "from pylab import *\n",
        "plt.figure(figsize=(4,3))\n",
        "plt.scatter(X[:,0],X[:,1],c=y.astype(np.float))\n",
        "plt.show()"
      ],
      "execution_count": 117,
      "outputs": [
        {
          "output_type": "display_data",
          "data": {
            "image/png": "[encoded data removed]",
            "text/plain": [
              "<Figure size 288x216 with 1 Axes>"
            ]
          },
          "metadata": {
            "needs_background": "light"
          }
        }
      ]
    },
    {
      "cell_type": "code",
      "metadata": {
        "id": "7O9nZbhpwJVK"
      },
      "source": [
        "##for non-binary classification\n",
        "#METHOD - encoding: \n",
        "# e.x 4 classes- [0,1,2,3]\n",
        "y=keras.utils.to_categorical(y)"
      ],
      "execution_count": 118,
      "outputs": []
    },
    {
      "cell_type": "code",
      "metadata": {
        "colab": {
          "base_uri": "https://localhost:8080/"
        },
        "id": "g3XbcmuTwZjy",
        "outputId": "1246cfcc-9cff-4454-8b62-3eaf726e2996"
      },
      "source": [
        "y # 4 classes"
      ],
      "execution_count": 106,
      "outputs": [
        {
          "output_type": "execute_result",
          "data": {
            "text/plain": [
              "array([[1., 0., 0., 0.],\n",
              "       [1., 0., 0., 0.],\n",
              "       [1., 0., 0., 0.],\n",
              "       ...,\n",
              "       [0., 0., 0., 1.],\n",
              "       [0., 0., 0., 1.],\n",
              "       [0., 0., 0., 1.]], dtype=float32)"
            ]
          },
          "metadata": {},
          "execution_count": 106
        }
      ]
    },
    {
      "cell_type": "code",
      "metadata": {
        "id": "VShoga0vqg21"
      },
      "source": [
        "from sklearn.model_selection import train_test_split\n",
        "X_train, X_test, y_train, y_test=train_test_split(X,y,test_size=0.2, random_state=7)"
      ],
      "execution_count": 119,
      "outputs": []
    },
    {
      "cell_type": "code",
      "metadata": {
        "id": "sQXaqmKJsTu7"
      },
      "source": [
        "from tensorflow import keras\n",
        "from tensorflow.keras.models import Sequential \n",
        "from tensorflow.keras.layers import Dense\n",
        "\n",
        "model=Sequential() \n",
        "model.add(Dense(32, activation='relu',input_shape=X_train.shape[1:])) #nn for 4 classification chose dense -32\n",
        "model.add(Dense(16, activation='relu'))\n",
        "model.add(Dense(4, activation='softmax')) #binary classifier 2-sigmoid, multiple classifier 4- softmax"
      ],
      "execution_count": 129,
      "outputs": []
    },
    {
      "cell_type": "markdown",
      "metadata": {
        "id": "44jXAalXtR63"
      },
      "source": [
        "### In Keras, first we set up one layer NN with 16 hidden units in the network, and a final sigmoid function to do binary classification."
      ]
    },
    {
      "cell_type": "code",
      "metadata": {
        "colab": {
          "base_uri": "https://localhost:8080/"
        },
        "id": "Baw4tV2lse9T",
        "outputId": "6708cdc5-44fa-488d-d824-77dabbd0789a"
      },
      "source": [
        "model.summary() #starts from 16 hidden units in dense_layer, and output to binary result.\n",
        "                # for multiple classification, use dense_32, output as 4"
      ],
      "execution_count": 121,
      "outputs": [
        {
          "output_type": "stream",
          "name": "stdout",
          "text": [
            "Model: \"sequential_14\"\n",
            "_________________________________________________________________\n",
            " Layer (type)                Output Shape              Param #   \n",
            "=================================================================\n",
            " dense_29 (Dense)            (None, 32)                96        \n",
            "                                                                 \n",
            " dense_30 (Dense)            (None, 16)                528       \n",
            "                                                                 \n",
            " dense_31 (Dense)            (None, 4)                 68        \n",
            "                                                                 \n",
            "=================================================================\n",
            "Total params: 692\n",
            "Trainable params: 692\n",
            "Non-trainable params: 0\n",
            "_________________________________________________________________\n"
          ]
        }
      ]
    },
    {
      "cell_type": "code",
      "metadata": {
        "id": "LvhwOrNAtJd0"
      },
      "source": [
        "model.compile(loss='categorical_crossentropy',optimizer='adam',metrics=['accuracy'])"
      ],
      "execution_count": 134,
      "outputs": []
    },
    {
      "cell_type": "code",
      "metadata": {
        "colab": {
          "base_uri": "https://localhost:8080/"
        },
        "id": "r36e6Wvpt7J4",
        "outputId": "c8ffcf86-4537-44b7-9c78-6b3041eedd81"
      },
      "source": [
        "train=model.fit(X_train, y_train, batch_size=100, epochs=10, verbose=2, validation_data=(X_test,y_test))"
      ],
      "execution_count": 135,
      "outputs": [
        {
          "output_type": "stream",
          "name": "stdout",
          "text": [
            "Epoch 1/10\n",
            "55/55 - 1s - loss: 0.3036 - accuracy: 0.9078 - val_loss: 0.3025 - val_accuracy: 0.9007 - 692ms/epoch - 13ms/step\n",
            "Epoch 2/10\n",
            "55/55 - 0s - loss: 0.2790 - accuracy: 0.9139 - val_loss: 0.2806 - val_accuracy: 0.9212 - 121ms/epoch - 2ms/step\n",
            "Epoch 3/10\n",
            "55/55 - 0s - loss: 0.2579 - accuracy: 0.9259 - val_loss: 0.2596 - val_accuracy: 0.9226 - 119ms/epoch - 2ms/step\n",
            "Epoch 4/10\n",
            "55/55 - 0s - loss: 0.2400 - accuracy: 0.9323 - val_loss: 0.2430 - val_accuracy: 0.9241 - 115ms/epoch - 2ms/step\n",
            "Epoch 5/10\n",
            "55/55 - 0s - loss: 0.2252 - accuracy: 0.9350 - val_loss: 0.2298 - val_accuracy: 0.9292 - 125ms/epoch - 2ms/step\n",
            "Epoch 6/10\n",
            "55/55 - 0s - loss: 0.2118 - accuracy: 0.9367 - val_loss: 0.2170 - val_accuracy: 0.9292 - 139ms/epoch - 3ms/step\n",
            "Epoch 7/10\n",
            "55/55 - 0s - loss: 0.1999 - accuracy: 0.9400 - val_loss: 0.2063 - val_accuracy: 0.9307 - 119ms/epoch - 2ms/step\n",
            "Epoch 8/10\n",
            "55/55 - 0s - loss: 0.1910 - accuracy: 0.9407 - val_loss: 0.1973 - val_accuracy: 0.9307 - 118ms/epoch - 2ms/step\n",
            "Epoch 9/10\n",
            "55/55 - 0s - loss: 0.1825 - accuracy: 0.9405 - val_loss: 0.1901 - val_accuracy: 0.9343 - 116ms/epoch - 2ms/step\n",
            "Epoch 10/10\n",
            "55/55 - 0s - loss: 0.1757 - accuracy: 0.9412 - val_loss: 0.1831 - val_accuracy: 0.9372 - 124ms/epoch - 2ms/step\n"
          ]
        }
      ]
    },
    {
      "cell_type": "code",
      "metadata": {
        "colab": {
          "base_uri": "https://localhost:8080/"
        },
        "id": "nUAssHn0uN-D",
        "outputId": "c6c7ac3e-6e07-4700-fb91-7d308394ef57"
      },
      "source": [
        "#evaluate\n",
        "# One-Layer NN can achive the optmized result with SVM, KNN\n",
        "score=model.evaluate(X_test,y_test,verbose=1)\n",
        "\n",
        "print('Loss:{},  Accuracy:{}'.format(score[0],score[1]))"
      ],
      "execution_count": 136,
      "outputs": [
        {
          "output_type": "stream",
          "name": "stdout",
          "text": [
            "43/43 [==============================] - 0s 1ms/step - loss: 0.1831 - accuracy: 0.9372\n",
            "Loss:0.18311631679534912,  Accuracy:0.9372262954711914\n"
          ]
        }
      ]
    },
    {
      "cell_type": "code",
      "metadata": {
        "id": "zFSyHic4uu7f"
      },
      "source": [
        ""
      ],
      "execution_count": null,
      "outputs": []
    },
    {
      "cell_type": "markdown",
      "metadata": {
        "id": "teM9J_TGzXTg"
      },
      "source": [
        "### Adding one more dense layer improves 20% accuracy, and also when we separate centers as far as each other, the task itself is easier than the case when we have overlapping centers, and the NN model performs better for sure."
      ]
    },
    {
      "cell_type": "code",
      "metadata": {
        "id": "HUO3btgmzqE6"
      },
      "source": [
        ""
      ],
      "execution_count": null,
      "outputs": []
    }
  ]
}