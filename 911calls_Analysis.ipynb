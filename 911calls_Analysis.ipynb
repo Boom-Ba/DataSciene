{
  "nbformat": 4,
  "nbformat_minor": 0,
  "metadata": {
    "colab": {
      "name": "911calls_Analysis",
      "provenance": [],
      "authorship_tag": "ABX9TyNyaZuxzlHvt+M7CpHa9z81",
      "include_colab_link": true
    },
    "kernelspec": {
      "name": "python3",
      "display_name": "Python 3"
    },
    "language_info": {
      "name": "python"
    }
  },
  "cells": [
    {
      "cell_type": "markdown",
      "metadata": {
        "id": "view-in-github",
        "colab_type": "text"
      },
      "source": [
        "<a href=\"https://colab.research.google.com/github/Boom-Ba/DataSciene/blob/main/911calls_Analysis.ipynb\" target=\"_parent\"><img src=\"https://colab.research.google.com/assets/colab-badge.svg\" alt=\"Open In Colab\"/></a>"
      ]
    },
    {
      "cell_type": "code",
      "metadata": {
        "id": "R8h8lKrybVFP"
      },
      "source": [
        ""
      ],
      "execution_count": null,
      "outputs": []
    },
    {
      "cell_type": "markdown",
      "metadata": {
        "id": "JwFCylwNbZie"
      },
      "source": [
        "\n",
        "# **911 Calls Project:**\n",
        "\n",
        "---\n",
        "\n",
        "\n",
        "1.   Spatial Info: lat, lng of occurences\n",
        "2.   Description: description states in the emergency calls\n",
        "3.   Zip: Zip code\n",
        "4.   Title\n",
        "5.   TimeStamp\n",
        "6.   Township\n",
        "7.   Addr\n",
        "8.   Dummpy Variable (always as 1)\n",
        "\n",
        "**The main objective is to find out what caused an emergency happaning, and what things we can build up to decrese number of emergencies from the historical data exploration, number of frequency based on the time**"
      ]
    },
    {
      "cell_type": "markdown",
      "metadata": {
        "id": "tQsEY3xScLEv"
      },
      "source": [
        "## Library **Import**"
      ]
    },
    {
      "cell_type": "code",
      "metadata": {
        "id": "lTAI6TbvbkJy"
      },
      "source": [
        "import numpy as np\n",
        "import pandas as pd\n",
        "import matplotlib.pyplot as plt\n",
        "import seaborn as sns\n",
        "%matplotlib inline"
      ],
      "execution_count": 2,
      "outputs": []
    },
    {
      "cell_type": "code",
      "metadata": {
        "id": "fgAPj3dBcTPx"
      },
      "source": [
        "df=pd.read_csv('/content/911.csv')"
      ],
      "execution_count": 6,
      "outputs": []
    },
    {
      "cell_type": "code",
      "metadata": {
        "colab": {
          "base_uri": "https://localhost:8080/",
          "height": 289
        },
        "id": "podale8Ffx5w",
        "outputId": "ac22f624-7013-4d77-9260-0771ff836439"
      },
      "source": [
        "df.head(5)"
      ],
      "execution_count": 14,
      "outputs": [
        {
          "output_type": "execute_result",
          "data": {
            "text/html": [
              "<div>\n",
              "<style scoped>\n",
              "    .dataframe tbody tr th:only-of-type {\n",
              "        vertical-align: middle;\n",
              "    }\n",
              "\n",
              "    .dataframe tbody tr th {\n",
              "        vertical-align: top;\n",
              "    }\n",
              "\n",
              "    .dataframe thead th {\n",
              "        text-align: right;\n",
              "    }\n",
              "</style>\n",
              "<table border=\"1\" class=\"dataframe\">\n",
              "  <thead>\n",
              "    <tr style=\"text-align: right;\">\n",
              "      <th></th>\n",
              "      <th>lat</th>\n",
              "      <th>lng</th>\n",
              "      <th>desc</th>\n",
              "      <th>zip</th>\n",
              "      <th>title</th>\n",
              "      <th>timeStamp</th>\n",
              "      <th>twp</th>\n",
              "      <th>addr</th>\n",
              "      <th>e</th>\n",
              "    </tr>\n",
              "  </thead>\n",
              "  <tbody>\n",
              "    <tr>\n",
              "      <th>0</th>\n",
              "      <td>40.297876</td>\n",
              "      <td>-75.581294</td>\n",
              "      <td>REINDEER CT &amp; DEAD END;  NEW HANOVER; Station ...</td>\n",
              "      <td>19525.0</td>\n",
              "      <td>EMS: BACK PAINS/INJURY</td>\n",
              "      <td>2015-12-10 17:10:52</td>\n",
              "      <td>NEW HANOVER</td>\n",
              "      <td>REINDEER CT &amp; DEAD END</td>\n",
              "      <td>1</td>\n",
              "    </tr>\n",
              "    <tr>\n",
              "      <th>1</th>\n",
              "      <td>40.258061</td>\n",
              "      <td>-75.264680</td>\n",
              "      <td>BRIAR PATH &amp; WHITEMARSH LN;  HATFIELD TOWNSHIP...</td>\n",
              "      <td>19446.0</td>\n",
              "      <td>EMS: DIABETIC EMERGENCY</td>\n",
              "      <td>2015-12-10 17:29:21</td>\n",
              "      <td>HATFIELD TOWNSHIP</td>\n",
              "      <td>BRIAR PATH &amp; WHITEMARSH LN</td>\n",
              "      <td>1</td>\n",
              "    </tr>\n",
              "    <tr>\n",
              "      <th>2</th>\n",
              "      <td>40.121182</td>\n",
              "      <td>-75.351975</td>\n",
              "      <td>HAWS AVE; NORRISTOWN; 2015-12-10 @ 14:39:21-St...</td>\n",
              "      <td>19401.0</td>\n",
              "      <td>Fire: GAS-ODOR/LEAK</td>\n",
              "      <td>2015-12-10 14:39:21</td>\n",
              "      <td>NORRISTOWN</td>\n",
              "      <td>HAWS AVE</td>\n",
              "      <td>1</td>\n",
              "    </tr>\n",
              "    <tr>\n",
              "      <th>3</th>\n",
              "      <td>40.116153</td>\n",
              "      <td>-75.343513</td>\n",
              "      <td>AIRY ST &amp; SWEDE ST;  NORRISTOWN; Station 308A;...</td>\n",
              "      <td>19401.0</td>\n",
              "      <td>EMS: CARDIAC EMERGENCY</td>\n",
              "      <td>2015-12-10 16:47:36</td>\n",
              "      <td>NORRISTOWN</td>\n",
              "      <td>AIRY ST &amp; SWEDE ST</td>\n",
              "      <td>1</td>\n",
              "    </tr>\n",
              "    <tr>\n",
              "      <th>4</th>\n",
              "      <td>40.251492</td>\n",
              "      <td>-75.603350</td>\n",
              "      <td>CHERRYWOOD CT &amp; DEAD END;  LOWER POTTSGROVE; S...</td>\n",
              "      <td>NaN</td>\n",
              "      <td>EMS: DIZZINESS</td>\n",
              "      <td>2015-12-10 16:56:52</td>\n",
              "      <td>LOWER POTTSGROVE</td>\n",
              "      <td>CHERRYWOOD CT &amp; DEAD END</td>\n",
              "      <td>1</td>\n",
              "    </tr>\n",
              "  </tbody>\n",
              "</table>\n",
              "</div>"
            ],
            "text/plain": [
              "         lat        lng  ...                        addr  e\n",
              "0  40.297876 -75.581294  ...      REINDEER CT & DEAD END  1\n",
              "1  40.258061 -75.264680  ...  BRIAR PATH & WHITEMARSH LN  1\n",
              "2  40.121182 -75.351975  ...                    HAWS AVE  1\n",
              "3  40.116153 -75.343513  ...          AIRY ST & SWEDE ST  1\n",
              "4  40.251492 -75.603350  ...    CHERRYWOOD CT & DEAD END  1\n",
              "\n",
              "[5 rows x 9 columns]"
            ]
          },
          "metadata": {},
          "execution_count": 14
        }
      ]
    },
    {
      "cell_type": "code",
      "metadata": {
        "colab": {
          "base_uri": "https://localhost:8080/"
        },
        "id": "scHkjsV5c5x4",
        "outputId": "f7db121b-900d-41af-8029-37eb116e12e4"
      },
      "source": [
        "#the most frequent zipcode of occurences\n",
        "df['zip'].value_counts().head(5)"
      ],
      "execution_count": 8,
      "outputs": [
        {
          "output_type": "execute_result",
          "data": {
            "text/plain": [
              "19401.0    19821\n",
              "19464.0    19276\n",
              "19403.0    14524\n",
              "19446.0    13939\n",
              "19406.0     9601\n",
              "Name: zip, dtype: int64"
            ]
          },
          "metadata": {},
          "execution_count": 8
        }
      ]
    },
    {
      "cell_type": "code",
      "metadata": {
        "colab": {
          "base_uri": "https://localhost:8080/"
        },
        "id": "e9x5xEpKev8k",
        "outputId": "7ddc16c1-2f9e-4634-c3e6-b6ee258b950c"
      },
      "source": [
        "#the most frequent township \n",
        "df['twp'].value_counts().head(5)"
      ],
      "execution_count": 9,
      "outputs": [
        {
          "output_type": "execute_result",
          "data": {
            "text/plain": [
              "LOWER MERION    24826\n",
              "ABINGTON        17820\n",
              "NORRISTOWN      16546\n",
              "UPPER MERION    15288\n",
              "CHELTENHAM      13359\n",
              "Name: twp, dtype: int64"
            ]
          },
          "metadata": {},
          "execution_count": 9
        }
      ]
    },
    {
      "cell_type": "code",
      "metadata": {
        "colab": {
          "base_uri": "https://localhost:8080/"
        },
        "id": "K_w5ISm9fFHT",
        "outputId": "f439fa72-441c-4701-a503-bce4c46bc7dc"
      },
      "source": [
        "print(len(df['title'].unique())) #convert into an array"
      ],
      "execution_count": 13,
      "outputs": [
        {
          "output_type": "stream",
          "name": "stdout",
          "text": [
            "131\n"
          ]
        }
      ]
    },
    {
      "cell_type": "code",
      "metadata": {
        "colab": {
          "base_uri": "https://localhost:8080/"
        },
        "id": "tq9Ig3b-fI4-",
        "outputId": "10f56009-9aa2-4254-e699-9ec58027a37b"
      },
      "source": [
        "df['title'].nunique() #output num of uniques "
      ],
      "execution_count": 11,
      "outputs": [
        {
          "output_type": "execute_result",
          "data": {
            "text/plain": [
              "131"
            ]
          },
          "metadata": {},
          "execution_count": 11
        }
      ]
    },
    {
      "cell_type": "markdown",
      "metadata": {
        "id": "ZoVtMBEFfsfG"
      },
      "source": [
        "# Creating New Features: what caused emergency happening\n",
        "\n"
      ]
    },
    {
      "cell_type": "code",
      "metadata": {
        "colab": {
          "base_uri": "https://localhost:8080/"
        },
        "id": "nRbyzHFDfiXr",
        "outputId": "902bf255-0bf2-49ea-ed64-aae6d1a5bcfe"
      },
      "source": [
        "# in title\n",
        "x=df['title'][0]\n",
        "print(x)"
      ],
      "execution_count": 24,
      "outputs": [
        {
          "output_type": "stream",
          "name": "stdout",
          "text": [
            "EMS: BACK PAINS/INJURY\n"
          ]
        }
      ]
    },
    {
      "cell_type": "code",
      "metadata": {
        "colab": {
          "base_uri": "https://localhost:8080/",
          "height": 35
        },
        "id": "ADtrcPenf6Ix",
        "outputId": "66646b2c-c650-4e67-fe64-eb3a1ec0092a"
      },
      "source": [
        "x.split(':')[0]"
      ],
      "execution_count": 25,
      "outputs": [
        {
          "output_type": "execute_result",
          "data": {
            "application/vnd.google.colaboratory.intrinsic+json": {
              "type": "string"
            },
            "text/plain": [
              "'EMS'"
            ]
          },
          "metadata": {},
          "execution_count": 25
        }
      ]
    },
    {
      "cell_type": "code",
      "metadata": {
        "id": "mybVE2hKf_Q6"
      },
      "source": [
        "df['Reason']=df['title'].apply(lambda title: title.split(':')[0])"
      ],
      "execution_count": 26,
      "outputs": []
    },
    {
      "cell_type": "code",
      "metadata": {
        "colab": {
          "base_uri": "https://localhost:8080/",
          "height": 289
        },
        "id": "visqMqu9ggF2",
        "outputId": "e41ae9d8-1ffe-4ae8-8d6e-614ae75080b4"
      },
      "source": [
        "df.head(5)"
      ],
      "execution_count": 27,
      "outputs": [
        {
          "output_type": "execute_result",
          "data": {
            "text/html": [
              "<div>\n",
              "<style scoped>\n",
              "    .dataframe tbody tr th:only-of-type {\n",
              "        vertical-align: middle;\n",
              "    }\n",
              "\n",
              "    .dataframe tbody tr th {\n",
              "        vertical-align: top;\n",
              "    }\n",
              "\n",
              "    .dataframe thead th {\n",
              "        text-align: right;\n",
              "    }\n",
              "</style>\n",
              "<table border=\"1\" class=\"dataframe\">\n",
              "  <thead>\n",
              "    <tr style=\"text-align: right;\">\n",
              "      <th></th>\n",
              "      <th>lat</th>\n",
              "      <th>lng</th>\n",
              "      <th>desc</th>\n",
              "      <th>zip</th>\n",
              "      <th>title</th>\n",
              "      <th>timeStamp</th>\n",
              "      <th>twp</th>\n",
              "      <th>addr</th>\n",
              "      <th>e</th>\n",
              "      <th>Reason</th>\n",
              "    </tr>\n",
              "  </thead>\n",
              "  <tbody>\n",
              "    <tr>\n",
              "      <th>0</th>\n",
              "      <td>40.297876</td>\n",
              "      <td>-75.581294</td>\n",
              "      <td>REINDEER CT &amp; DEAD END;  NEW HANOVER; Station ...</td>\n",
              "      <td>19525.0</td>\n",
              "      <td>EMS: BACK PAINS/INJURY</td>\n",
              "      <td>2015-12-10 17:10:52</td>\n",
              "      <td>NEW HANOVER</td>\n",
              "      <td>REINDEER CT &amp; DEAD END</td>\n",
              "      <td>1</td>\n",
              "      <td>EMS</td>\n",
              "    </tr>\n",
              "    <tr>\n",
              "      <th>1</th>\n",
              "      <td>40.258061</td>\n",
              "      <td>-75.264680</td>\n",
              "      <td>BRIAR PATH &amp; WHITEMARSH LN;  HATFIELD TOWNSHIP...</td>\n",
              "      <td>19446.0</td>\n",
              "      <td>EMS: DIABETIC EMERGENCY</td>\n",
              "      <td>2015-12-10 17:29:21</td>\n",
              "      <td>HATFIELD TOWNSHIP</td>\n",
              "      <td>BRIAR PATH &amp; WHITEMARSH LN</td>\n",
              "      <td>1</td>\n",
              "      <td>EMS</td>\n",
              "    </tr>\n",
              "    <tr>\n",
              "      <th>2</th>\n",
              "      <td>40.121182</td>\n",
              "      <td>-75.351975</td>\n",
              "      <td>HAWS AVE; NORRISTOWN; 2015-12-10 @ 14:39:21-St...</td>\n",
              "      <td>19401.0</td>\n",
              "      <td>Fire: GAS-ODOR/LEAK</td>\n",
              "      <td>2015-12-10 14:39:21</td>\n",
              "      <td>NORRISTOWN</td>\n",
              "      <td>HAWS AVE</td>\n",
              "      <td>1</td>\n",
              "      <td>Fire</td>\n",
              "    </tr>\n",
              "    <tr>\n",
              "      <th>3</th>\n",
              "      <td>40.116153</td>\n",
              "      <td>-75.343513</td>\n",
              "      <td>AIRY ST &amp; SWEDE ST;  NORRISTOWN; Station 308A;...</td>\n",
              "      <td>19401.0</td>\n",
              "      <td>EMS: CARDIAC EMERGENCY</td>\n",
              "      <td>2015-12-10 16:47:36</td>\n",
              "      <td>NORRISTOWN</td>\n",
              "      <td>AIRY ST &amp; SWEDE ST</td>\n",
              "      <td>1</td>\n",
              "      <td>EMS</td>\n",
              "    </tr>\n",
              "    <tr>\n",
              "      <th>4</th>\n",
              "      <td>40.251492</td>\n",
              "      <td>-75.603350</td>\n",
              "      <td>CHERRYWOOD CT &amp; DEAD END;  LOWER POTTSGROVE; S...</td>\n",
              "      <td>NaN</td>\n",
              "      <td>EMS: DIZZINESS</td>\n",
              "      <td>2015-12-10 16:56:52</td>\n",
              "      <td>LOWER POTTSGROVE</td>\n",
              "      <td>CHERRYWOOD CT &amp; DEAD END</td>\n",
              "      <td>1</td>\n",
              "      <td>EMS</td>\n",
              "    </tr>\n",
              "  </tbody>\n",
              "</table>\n",
              "</div>"
            ],
            "text/plain": [
              "         lat        lng  ...  e  Reason\n",
              "0  40.297876 -75.581294  ...  1     EMS\n",
              "1  40.258061 -75.264680  ...  1     EMS\n",
              "2  40.121182 -75.351975  ...  1    Fire\n",
              "3  40.116153 -75.343513  ...  1     EMS\n",
              "4  40.251492 -75.603350  ...  1     EMS\n",
              "\n",
              "[5 rows x 10 columns]"
            ]
          },
          "metadata": {},
          "execution_count": 27
        }
      ]
    },
    {
      "cell_type": "code",
      "metadata": {
        "colab": {
          "base_uri": "https://localhost:8080/"
        },
        "id": "1Pyr8QjBghjX",
        "outputId": "3153422e-78b9-4885-d4a4-90074fdd30ea"
      },
      "source": [
        "df['Reason']"
      ],
      "execution_count": 28,
      "outputs": [
        {
          "output_type": "execute_result",
          "data": {
            "text/plain": [
              "0             EMS\n",
              "1             EMS\n",
              "2            Fire\n",
              "3             EMS\n",
              "4             EMS\n",
              "           ...   \n",
              "289235        EMS\n",
              "289236       Fire\n",
              "289237    Traffic\n",
              "289238    Traffic\n",
              "289239    Traffic\n",
              "Name: Reason, Length: 289240, dtype: object"
            ]
          },
          "metadata": {},
          "execution_count": 28
        }
      ]
    },
    {
      "cell_type": "code",
      "metadata": {
        "id": "xYyEF7w6g2bh"
      },
      "source": [
        "#What is the top reasons caused emergency"
      ],
      "execution_count": 29,
      "outputs": []
    },
    {
      "cell_type": "code",
      "metadata": {
        "colab": {
          "base_uri": "https://localhost:8080/"
        },
        "id": "Hiqf2UGpg-yX",
        "outputId": "d467a949-9b23-42f0-86de-338e8765ed09"
      },
      "source": [
        "df['Reason'].value_counts()"
      ],
      "execution_count": 30,
      "outputs": [
        {
          "output_type": "execute_result",
          "data": {
            "text/plain": [
              "EMS        144362\n",
              "Traffic    101889\n",
              "Fire        42989\n",
              "Name: Reason, dtype: int64"
            ]
          },
          "metadata": {},
          "execution_count": 30
        }
      ]
    },
    {
      "cell_type": "code",
      "metadata": {
        "id": "vrVxa2UqhBjW"
      },
      "source": [
        "#Draw countplot for 'Reason'\n",
        "# Notice, for countplot, there is no y input because it assumed the y is count of x"
      ],
      "execution_count": 31,
      "outputs": []
    },
    {
      "cell_type": "code",
      "metadata": {
        "colab": {
          "base_uri": "https://localhost:8080/",
          "height": 296
        },
        "id": "2vPrltxahK-X",
        "outputId": "e9e9b5e6-00db-4a39-9f65-0e40f77266db"
      },
      "source": [
        "sns.countplot(x='Reason',data=df, palette='viridis')"
      ],
      "execution_count": 32,
      "outputs": [
        {
          "output_type": "execute_result",
          "data": {
            "text/plain": [
              "<matplotlib.axes._subplots.AxesSubplot at 0x7f8bdb520490>"
            ]
          },
          "metadata": {},
          "execution_count": 32
        },
        {
          "output_type": "display_data",
          "data": {
            "image/png": "[encoded data removed]",
            "text/plain": [
              "<Figure size 432x288 with 1 Axes>"
            ]
          },
          "metadata": {
            "needs_background": "light"
          }
        }
      ]
    },
    {
      "cell_type": "markdown",
      "metadata": {
        "id": "dyL1TZD0htjq"
      },
      "source": [
        "# Timestamp"
      ]
    },
    {
      "cell_type": "code",
      "metadata": {
        "colab": {
          "base_uri": "https://localhost:8080/"
        },
        "id": "O8fLvbIMhQun",
        "outputId": "80483520-407f-4cc1-c92f-b1c1cd9435c2"
      },
      "source": [
        "df.info() \n",
        "#timestamp has been coded as an obj"
      ],
      "execution_count": 34,
      "outputs": [
        {
          "output_type": "stream",
          "name": "stdout",
          "text": [
            "<class 'pandas.core.frame.DataFrame'>\n",
            "RangeIndex: 289240 entries, 0 to 289239\n",
            "Data columns (total 10 columns):\n",
            " #   Column     Non-Null Count   Dtype  \n",
            "---  ------     --------------   -----  \n",
            " 0   lat        289240 non-null  float64\n",
            " 1   lng        289240 non-null  float64\n",
            " 2   desc       289240 non-null  object \n",
            " 3   zip        253942 non-null  float64\n",
            " 4   title      289240 non-null  object \n",
            " 5   timeStamp  289240 non-null  object \n",
            " 6   twp        289137 non-null  object \n",
            " 7   addr       289240 non-null  object \n",
            " 8   e          289240 non-null  int64  \n",
            " 9   Reason     289240 non-null  object \n",
            "dtypes: float64(3), int64(1), object(6)\n",
            "memory usage: 22.1+ MB\n"
          ]
        }
      ]
    },
    {
      "cell_type": "code",
      "metadata": {
        "colab": {
          "base_uri": "https://localhost:8080/"
        },
        "id": "jS_FQRPDhwgv",
        "outputId": "840b9ec4-b441-42c8-ed5d-9b1c951cda82"
      },
      "source": [
        "type(df['timeStamp'].iloc[0])"
      ],
      "execution_count": 37,
      "outputs": [
        {
          "output_type": "execute_result",
          "data": {
            "text/plain": [
              "str"
            ]
          },
          "metadata": {},
          "execution_count": 37
        }
      ]
    },
    {
      "cell_type": "code",
      "metadata": {
        "id": "w6azjh3th3Jo"
      },
      "source": [
        "#cast to a timestamp obj in df\n",
        "df['timeStamp']=pd.to_datetime(df['timeStamp'])"
      ],
      "execution_count": 39,
      "outputs": []
    },
    {
      "cell_type": "code",
      "metadata": {
        "colab": {
          "base_uri": "https://localhost:8080/"
        },
        "id": "GoqBD4TEo9_r",
        "outputId": "a9872025-9d58-4c56-abcd-6cf003587af8"
      },
      "source": [
        "type(df['timeStamp'][0])"
      ],
      "execution_count": 41,
      "outputs": [
        {
          "output_type": "execute_result",
          "data": {
            "text/plain": [
              "pandas._libs.tslibs.timestamps.Timestamp"
            ]
          },
          "metadata": {},
          "execution_count": 41
        }
      ]
    },
    {
      "cell_type": "markdown",
      "metadata": {
        "id": "Vt32fxgspfty"
      },
      "source": [
        "# Adding Attributes from timeStamp Col"
      ]
    },
    {
      "cell_type": "code",
      "metadata": {
        "id": "7eOulf8Ype5-"
      },
      "source": [
        "time=df['timeStamp'][0]"
      ],
      "execution_count": 45,
      "outputs": []
    },
    {
      "cell_type": "code",
      "metadata": {
        "colab": {
          "base_uri": "https://localhost:8080/"
        },
        "id": "lXM6l3HUqXFZ",
        "outputId": "7c7e68f5-7242-4de4-e061-f18ed54ba7a1"
      },
      "source": [
        "time.date"
      ],
      "execution_count": 54,
      "outputs": [
        {
          "output_type": "execute_result",
          "data": {
            "text/plain": [
              "<function Timestamp.date>"
            ]
          },
          "metadata": {},
          "execution_count": 54
        }
      ]
    },
    {
      "cell_type": "code",
      "metadata": {
        "id": "siRoqRBjpQdK"
      },
      "source": [
        "df['Hour']=df['timeStamp'].apply(lambda time: time.hour)"
      ],
      "execution_count": 50,
      "outputs": []
    },
    {
      "cell_type": "code",
      "metadata": {
        "id": "_zFIZQRwpbAY"
      },
      "source": [
        "df['Month']=df['timeStamp'].apply(lambda time: time.month)"
      ],
      "execution_count": 51,
      "outputs": []
    },
    {
      "cell_type": "code",
      "metadata": {
        "id": "eCrO_OHxqOSu"
      },
      "source": [
        "df=df.drop(['Date'],axis=1)"
      ],
      "execution_count": 62,
      "outputs": []
    },
    {
      "cell_type": "code",
      "metadata": {
        "id": "Do4IFaQnqQL7"
      },
      "source": [
        "df['Day of Week']=df['timeStamp'].apply(lambda time: time.dayofweek)"
      ],
      "execution_count": 63,
      "outputs": []
    },
    {
      "cell_type": "code",
      "metadata": {
        "colab": {
          "base_uri": "https://localhost:8080/"
        },
        "id": "A5tlKs-XrEuz",
        "outputId": "7863f892-6fb5-4e47-d6d3-59b1cb796fce"
      },
      "source": [
        "df['Day of Week']"
      ],
      "execution_count": 64,
      "outputs": [
        {
          "output_type": "execute_result",
          "data": {
            "text/plain": [
              "0         3\n",
              "1         3\n",
              "2         3\n",
              "3         3\n",
              "4         3\n",
              "         ..\n",
              "289235    5\n",
              "289236    5\n",
              "289237    5\n",
              "289238    5\n",
              "289239    5\n",
              "Name: Day of Week, Length: 289240, dtype: int64"
            ]
          },
          "metadata": {},
          "execution_count": 64
        }
      ]
    },
    {
      "cell_type": "code",
      "metadata": {
        "id": "-EIela18rVTI"
      },
      "source": [
        "date_map ={0:'Mon',1:'Tue',2:'Wed',3:'Thu',4:'Fri',5:'Sat',6:'Sun'}"
      ],
      "execution_count": 65,
      "outputs": []
    },
    {
      "cell_type": "code",
      "metadata": {
        "id": "Eq7j1m1HrL2y"
      },
      "source": [
        "#Map num into string of day_of_week\n",
        "df['Day of Week']=df['Day of Week'].map(date_map)"
      ],
      "execution_count": 67,
      "outputs": []
    },
    {
      "cell_type": "code",
      "metadata": {
        "colab": {
          "base_uri": "https://localhost:8080/"
        },
        "id": "4t_lHc2WrkGU",
        "outputId": "58c5648f-23bc-46d3-f1d6-b797f535dc6f"
      },
      "source": [
        "df['Day of Week']"
      ],
      "execution_count": 68,
      "outputs": [
        {
          "output_type": "execute_result",
          "data": {
            "text/plain": [
              "0         Thu\n",
              "1         Thu\n",
              "2         Thu\n",
              "3         Thu\n",
              "4         Thu\n",
              "         ... \n",
              "289235    Sat\n",
              "289236    Sat\n",
              "289237    Sat\n",
              "289238    Sat\n",
              "289239    Sat\n",
              "Name: Day of Week, Length: 289240, dtype: object"
            ]
          },
          "metadata": {},
          "execution_count": 68
        }
      ]
    },
    {
      "cell_type": "code",
      "metadata": {
        "colab": {
          "base_uri": "https://localhost:8080/",
          "height": 296
        },
        "id": "UHOTS5obrnoT",
        "outputId": "59869a78-4e5e-4e01-d25a-c31e632f06f4"
      },
      "source": [
        "sns.countplot(x='Day of Week',data=df,hue='Reason',palette='viridis')"
      ],
      "execution_count": 71,
      "outputs": [
        {
          "output_type": "execute_result",
          "data": {
            "text/plain": [
              "<matplotlib.axes._subplots.AxesSubplot at 0x7f8bd0e55f10>"
            ]
          },
          "metadata": {},
          "execution_count": 71
        },
        {
          "output_type": "display_data",
          "data": {
            "image/png": "[encoded data removed]",
            "text/plain": [
              "<Figure size 432x288 with 1 Axes>"
            ]
          },
          "metadata": {
            "needs_background": "light"
          }
        }
      ]
    },
    {
      "cell_type": "code",
      "metadata": {
        "colab": {
          "base_uri": "https://localhost:8080/",
          "height": 296
        },
        "id": "PyNNbG9Yx8Pg",
        "outputId": "e4ee576b-a698-45e9-d59f-353c6b136fd4"
      },
      "source": [
        "sns.countplot(x='Month',data=df,hue='Reason',palette='viridis')"
      ],
      "execution_count": 72,
      "outputs": [
        {
          "output_type": "execute_result",
          "data": {
            "text/plain": [
              "<matplotlib.axes._subplots.AxesSubplot at 0x7f8bd0207b50>"
            ]
          },
          "metadata": {},
          "execution_count": 72
        },
        {
          "output_type": "display_data",
          "data": {
            "image/png": "[encoded data removed]",
            "text/plain": [
              "<Figure size 432x288 with 1 Axes>"
            ]
          },
          "metadata": {
            "needs_background": "light"
          }
        }
      ]
    },
    {
      "cell_type": "code",
      "metadata": {
        "id": "qOcDdHDSyZt9"
      },
      "source": [
        "groupby_month=df.groupby('Month').count()"
      ],
      "execution_count": 73,
      "outputs": []
    },
    {
      "cell_type": "code",
      "metadata": {
        "colab": {
          "base_uri": "https://localhost:8080/",
          "height": 235
        },
        "id": "2yYreQ3oyuG5",
        "outputId": "98b02fa5-e062-4ea5-d912-fb7153546074"
      },
      "source": [
        "groupby_month.head(5)"
      ],
      "execution_count": 74,
      "outputs": [
        {
          "output_type": "execute_result",
          "data": {
            "text/html": [
              "<div>\n",
              "<style scoped>\n",
              "    .dataframe tbody tr th:only-of-type {\n",
              "        vertical-align: middle;\n",
              "    }\n",
              "\n",
              "    .dataframe tbody tr th {\n",
              "        vertical-align: top;\n",
              "    }\n",
              "\n",
              "    .dataframe thead th {\n",
              "        text-align: right;\n",
              "    }\n",
              "</style>\n",
              "<table border=\"1\" class=\"dataframe\">\n",
              "  <thead>\n",
              "    <tr style=\"text-align: right;\">\n",
              "      <th></th>\n",
              "      <th>lat</th>\n",
              "      <th>lng</th>\n",
              "      <th>desc</th>\n",
              "      <th>zip</th>\n",
              "      <th>title</th>\n",
              "      <th>timeStamp</th>\n",
              "      <th>twp</th>\n",
              "      <th>addr</th>\n",
              "      <th>e</th>\n",
              "      <th>Reason</th>\n",
              "      <th>Hour</th>\n",
              "      <th>Day of Week</th>\n",
              "    </tr>\n",
              "    <tr>\n",
              "      <th>Month</th>\n",
              "      <th></th>\n",
              "      <th></th>\n",
              "      <th></th>\n",
              "      <th></th>\n",
              "      <th></th>\n",
              "      <th></th>\n",
              "      <th></th>\n",
              "      <th></th>\n",
              "      <th></th>\n",
              "      <th></th>\n",
              "      <th></th>\n",
              "      <th></th>\n",
              "    </tr>\n",
              "  </thead>\n",
              "  <tbody>\n",
              "    <tr>\n",
              "      <th>1</th>\n",
              "      <td>24701</td>\n",
              "      <td>24701</td>\n",
              "      <td>24701</td>\n",
              "      <td>21877</td>\n",
              "      <td>24701</td>\n",
              "      <td>24701</td>\n",
              "      <td>24692</td>\n",
              "      <td>24701</td>\n",
              "      <td>24701</td>\n",
              "      <td>24701</td>\n",
              "      <td>24701</td>\n",
              "      <td>24701</td>\n",
              "    </tr>\n",
              "    <tr>\n",
              "      <th>2</th>\n",
              "      <td>21663</td>\n",
              "      <td>21663</td>\n",
              "      <td>21663</td>\n",
              "      <td>19161</td>\n",
              "      <td>21663</td>\n",
              "      <td>21663</td>\n",
              "      <td>21658</td>\n",
              "      <td>21663</td>\n",
              "      <td>21663</td>\n",
              "      <td>21663</td>\n",
              "      <td>21663</td>\n",
              "      <td>21663</td>\n",
              "    </tr>\n",
              "    <tr>\n",
              "      <th>3</th>\n",
              "      <td>22743</td>\n",
              "      <td>22743</td>\n",
              "      <td>22743</td>\n",
              "      <td>20160</td>\n",
              "      <td>22743</td>\n",
              "      <td>22743</td>\n",
              "      <td>22732</td>\n",
              "      <td>22743</td>\n",
              "      <td>22743</td>\n",
              "      <td>22743</td>\n",
              "      <td>22743</td>\n",
              "      <td>22743</td>\n",
              "    </tr>\n",
              "    <tr>\n",
              "      <th>4</th>\n",
              "      <td>22343</td>\n",
              "      <td>22343</td>\n",
              "      <td>22343</td>\n",
              "      <td>19671</td>\n",
              "      <td>22343</td>\n",
              "      <td>22343</td>\n",
              "      <td>22336</td>\n",
              "      <td>22343</td>\n",
              "      <td>22343</td>\n",
              "      <td>22343</td>\n",
              "      <td>22343</td>\n",
              "      <td>22343</td>\n",
              "    </tr>\n",
              "    <tr>\n",
              "      <th>5</th>\n",
              "      <td>23093</td>\n",
              "      <td>23093</td>\n",
              "      <td>23093</td>\n",
              "      <td>20254</td>\n",
              "      <td>23093</td>\n",
              "      <td>23093</td>\n",
              "      <td>23082</td>\n",
              "      <td>23093</td>\n",
              "      <td>23093</td>\n",
              "      <td>23093</td>\n",
              "      <td>23093</td>\n",
              "      <td>23093</td>\n",
              "    </tr>\n",
              "  </tbody>\n",
              "</table>\n",
              "</div>"
            ],
            "text/plain": [
              "         lat    lng   desc    zip  ...      e  Reason   Hour  Day of Week\n",
              "Month                              ...                                   \n",
              "1      24701  24701  24701  21877  ...  24701   24701  24701        24701\n",
              "2      21663  21663  21663  19161  ...  21663   21663  21663        21663\n",
              "3      22743  22743  22743  20160  ...  22743   22743  22743        22743\n",
              "4      22343  22343  22343  19671  ...  22343   22343  22343        22343\n",
              "5      23093  23093  23093  20254  ...  23093   23093  23093        23093\n",
              "\n",
              "[5 rows x 12 columns]"
            ]
          },
          "metadata": {},
          "execution_count": 74
        }
      ]
    },
    {
      "cell_type": "code",
      "metadata": {
        "colab": {
          "base_uri": "https://localhost:8080/",
          "height": 296
        },
        "id": "ZO0WpjaDyvlJ",
        "outputId": "33f037ba-4005-49cb-c2f2-cf5cb76587bb"
      },
      "source": [
        "groupby_month['lat'].plot()"
      ],
      "execution_count": 77,
      "outputs": [
        {
          "output_type": "execute_result",
          "data": {
            "text/plain": [
              "<matplotlib.axes._subplots.AxesSubplot at 0x7f8bdafb0c50>"
            ]
          },
          "metadata": {},
          "execution_count": 77
        },
        {
          "output_type": "display_data",
          "data": {
            "image/png": "[encoded data removed]",
            "text/plain": [
              "<Figure size 432x288 with 1 Axes>"
            ]
          },
          "metadata": {
            "needs_background": "light"
          }
        }
      ]
    },
    {
      "cell_type": "code",
      "metadata": {
        "colab": {
          "base_uri": "https://localhost:8080/",
          "height": 296
        },
        "id": "LRHLBfJzy6gT",
        "outputId": "dbeec3af-cf6d-4f6c-fafb-c805268cc87f"
      },
      "source": [
        "sns.countplot(x='Month',data=df,palette='viridis')"
      ],
      "execution_count": 78,
      "outputs": [
        {
          "output_type": "execute_result",
          "data": {
            "text/plain": [
              "<matplotlib.axes._subplots.AxesSubplot at 0x7f8bdaf5a8d0>"
            ]
          },
          "metadata": {},
          "execution_count": 78
        },
        {
          "output_type": "display_data",
          "data": {
            "image/png": "[encoded data removed]",
            "text/plain": [
              "<Figure size 432x288 with 1 Axes>"
            ]
          },
          "metadata": {
            "needs_background": "light"
          }
        }
      ]
    },
    {
      "cell_type": "code",
      "metadata": {
        "colab": {
          "base_uri": "https://localhost:8080/",
          "height": 421
        },
        "id": "wR_l79FQzjtz",
        "outputId": "1b64c669-50c8-41f2-e80a-bdf7fa74aa1f"
      },
      "source": [
        "groupby_month.reset_index()"
      ],
      "execution_count": 79,
      "outputs": [
        {
          "output_type": "execute_result",
          "data": {
            "text/html": [
              "<div>\n",
              "<style scoped>\n",
              "    .dataframe tbody tr th:only-of-type {\n",
              "        vertical-align: middle;\n",
              "    }\n",
              "\n",
              "    .dataframe tbody tr th {\n",
              "        vertical-align: top;\n",
              "    }\n",
              "\n",
              "    .dataframe thead th {\n",
              "        text-align: right;\n",
              "    }\n",
              "</style>\n",
              "<table border=\"1\" class=\"dataframe\">\n",
              "  <thead>\n",
              "    <tr style=\"text-align: right;\">\n",
              "      <th></th>\n",
              "      <th>Month</th>\n",
              "      <th>lat</th>\n",
              "      <th>lng</th>\n",
              "      <th>desc</th>\n",
              "      <th>zip</th>\n",
              "      <th>title</th>\n",
              "      <th>timeStamp</th>\n",
              "      <th>twp</th>\n",
              "      <th>addr</th>\n",
              "      <th>e</th>\n",
              "      <th>Reason</th>\n",
              "      <th>Hour</th>\n",
              "      <th>Day of Week</th>\n",
              "    </tr>\n",
              "  </thead>\n",
              "  <tbody>\n",
              "    <tr>\n",
              "      <th>0</th>\n",
              "      <td>1</td>\n",
              "      <td>24701</td>\n",
              "      <td>24701</td>\n",
              "      <td>24701</td>\n",
              "      <td>21877</td>\n",
              "      <td>24701</td>\n",
              "      <td>24701</td>\n",
              "      <td>24692</td>\n",
              "      <td>24701</td>\n",
              "      <td>24701</td>\n",
              "      <td>24701</td>\n",
              "      <td>24701</td>\n",
              "      <td>24701</td>\n",
              "    </tr>\n",
              "    <tr>\n",
              "      <th>1</th>\n",
              "      <td>2</td>\n",
              "      <td>21663</td>\n",
              "      <td>21663</td>\n",
              "      <td>21663</td>\n",
              "      <td>19161</td>\n",
              "      <td>21663</td>\n",
              "      <td>21663</td>\n",
              "      <td>21658</td>\n",
              "      <td>21663</td>\n",
              "      <td>21663</td>\n",
              "      <td>21663</td>\n",
              "      <td>21663</td>\n",
              "      <td>21663</td>\n",
              "    </tr>\n",
              "    <tr>\n",
              "      <th>2</th>\n",
              "      <td>3</td>\n",
              "      <td>22743</td>\n",
              "      <td>22743</td>\n",
              "      <td>22743</td>\n",
              "      <td>20160</td>\n",
              "      <td>22743</td>\n",
              "      <td>22743</td>\n",
              "      <td>22732</td>\n",
              "      <td>22743</td>\n",
              "      <td>22743</td>\n",
              "      <td>22743</td>\n",
              "      <td>22743</td>\n",
              "      <td>22743</td>\n",
              "    </tr>\n",
              "    <tr>\n",
              "      <th>3</th>\n",
              "      <td>4</td>\n",
              "      <td>22343</td>\n",
              "      <td>22343</td>\n",
              "      <td>22343</td>\n",
              "      <td>19671</td>\n",
              "      <td>22343</td>\n",
              "      <td>22343</td>\n",
              "      <td>22336</td>\n",
              "      <td>22343</td>\n",
              "      <td>22343</td>\n",
              "      <td>22343</td>\n",
              "      <td>22343</td>\n",
              "      <td>22343</td>\n",
              "    </tr>\n",
              "    <tr>\n",
              "      <th>4</th>\n",
              "      <td>5</td>\n",
              "      <td>23093</td>\n",
              "      <td>23093</td>\n",
              "      <td>23093</td>\n",
              "      <td>20254</td>\n",
              "      <td>23093</td>\n",
              "      <td>23093</td>\n",
              "      <td>23082</td>\n",
              "      <td>23093</td>\n",
              "      <td>23093</td>\n",
              "      <td>23093</td>\n",
              "      <td>23093</td>\n",
              "      <td>23093</td>\n",
              "    </tr>\n",
              "    <tr>\n",
              "      <th>5</th>\n",
              "      <td>6</td>\n",
              "      <td>24065</td>\n",
              "      <td>24065</td>\n",
              "      <td>24065</td>\n",
              "      <td>21070</td>\n",
              "      <td>24065</td>\n",
              "      <td>24065</td>\n",
              "      <td>24058</td>\n",
              "      <td>24065</td>\n",
              "      <td>24065</td>\n",
              "      <td>24065</td>\n",
              "      <td>24065</td>\n",
              "      <td>24065</td>\n",
              "    </tr>\n",
              "    <tr>\n",
              "      <th>6</th>\n",
              "      <td>7</td>\n",
              "      <td>23856</td>\n",
              "      <td>23856</td>\n",
              "      <td>23856</td>\n",
              "      <td>20940</td>\n",
              "      <td>23856</td>\n",
              "      <td>23856</td>\n",
              "      <td>23850</td>\n",
              "      <td>23856</td>\n",
              "      <td>23856</td>\n",
              "      <td>23856</td>\n",
              "      <td>23856</td>\n",
              "      <td>23856</td>\n",
              "    </tr>\n",
              "    <tr>\n",
              "      <th>7</th>\n",
              "      <td>8</td>\n",
              "      <td>23657</td>\n",
              "      <td>23657</td>\n",
              "      <td>23657</td>\n",
              "      <td>20739</td>\n",
              "      <td>23657</td>\n",
              "      <td>23657</td>\n",
              "      <td>23646</td>\n",
              "      <td>23657</td>\n",
              "      <td>23657</td>\n",
              "      <td>23657</td>\n",
              "      <td>23657</td>\n",
              "      <td>23657</td>\n",
              "    </tr>\n",
              "    <tr>\n",
              "      <th>8</th>\n",
              "      <td>9</td>\n",
              "      <td>23001</td>\n",
              "      <td>23001</td>\n",
              "      <td>23001</td>\n",
              "      <td>20014</td>\n",
              "      <td>23001</td>\n",
              "      <td>23001</td>\n",
              "      <td>22993</td>\n",
              "      <td>23001</td>\n",
              "      <td>23001</td>\n",
              "      <td>23001</td>\n",
              "      <td>23001</td>\n",
              "      <td>23001</td>\n",
              "    </tr>\n",
              "    <tr>\n",
              "      <th>9</th>\n",
              "      <td>10</td>\n",
              "      <td>24113</td>\n",
              "      <td>24113</td>\n",
              "      <td>24113</td>\n",
              "      <td>20931</td>\n",
              "      <td>24113</td>\n",
              "      <td>24113</td>\n",
              "      <td>24109</td>\n",
              "      <td>24113</td>\n",
              "      <td>24113</td>\n",
              "      <td>24113</td>\n",
              "      <td>24113</td>\n",
              "      <td>24113</td>\n",
              "    </tr>\n",
              "    <tr>\n",
              "      <th>10</th>\n",
              "      <td>11</td>\n",
              "      <td>23639</td>\n",
              "      <td>23639</td>\n",
              "      <td>23639</td>\n",
              "      <td>20727</td>\n",
              "      <td>23639</td>\n",
              "      <td>23639</td>\n",
              "      <td>23629</td>\n",
              "      <td>23639</td>\n",
              "      <td>23639</td>\n",
              "      <td>23639</td>\n",
              "      <td>23639</td>\n",
              "      <td>23639</td>\n",
              "    </tr>\n",
              "    <tr>\n",
              "      <th>11</th>\n",
              "      <td>12</td>\n",
              "      <td>32366</td>\n",
              "      <td>32366</td>\n",
              "      <td>32366</td>\n",
              "      <td>28398</td>\n",
              "      <td>32366</td>\n",
              "      <td>32366</td>\n",
              "      <td>32352</td>\n",
              "      <td>32366</td>\n",
              "      <td>32366</td>\n",
              "      <td>32366</td>\n",
              "      <td>32366</td>\n",
              "      <td>32366</td>\n",
              "    </tr>\n",
              "  </tbody>\n",
              "</table>\n",
              "</div>"
            ],
            "text/plain": [
              "    Month    lat    lng   desc    zip  ...   addr      e  Reason   Hour  Day of Week\n",
              "0       1  24701  24701  24701  21877  ...  24701  24701   24701  24701        24701\n",
              "1       2  21663  21663  21663  19161  ...  21663  21663   21663  21663        21663\n",
              "2       3  22743  22743  22743  20160  ...  22743  22743   22743  22743        22743\n",
              "3       4  22343  22343  22343  19671  ...  22343  22343   22343  22343        22343\n",
              "4       5  23093  23093  23093  20254  ...  23093  23093   23093  23093        23093\n",
              "5       6  24065  24065  24065  21070  ...  24065  24065   24065  24065        24065\n",
              "6       7  23856  23856  23856  20940  ...  23856  23856   23856  23856        23856\n",
              "7       8  23657  23657  23657  20739  ...  23657  23657   23657  23657        23657\n",
              "8       9  23001  23001  23001  20014  ...  23001  23001   23001  23001        23001\n",
              "9      10  24113  24113  24113  20931  ...  24113  24113   24113  24113        24113\n",
              "10     11  23639  23639  23639  20727  ...  23639  23639   23639  23639        23639\n",
              "11     12  32366  32366  32366  28398  ...  32366  32366   32366  32366        32366\n",
              "\n",
              "[12 rows x 13 columns]"
            ]
          },
          "metadata": {},
          "execution_count": 79
        }
      ]
    },
    {
      "cell_type": "code",
      "metadata": {
        "colab": {
          "base_uri": "https://localhost:8080/",
          "height": 386
        },
        "id": "wNaCpkq_y_iw",
        "outputId": "8e2a32b4-2e9a-4482-d48a-bd7b683c23e6"
      },
      "source": [
        "#linear file on number of emergency calls per month\n",
        "sns.lmplot(x='Month',y='twp',data=groupby_month.reset_index())"
      ],
      "execution_count": 81,
      "outputs": [
        {
          "output_type": "execute_result",
          "data": {
            "text/plain": [
              "<seaborn.axisgrid.FacetGrid at 0x7f8bdab97310>"
            ]
          },
          "metadata": {},
          "execution_count": 81
        },
        {
          "output_type": "display_data",
          "data": {
            "image/png": "[encoded data removed]",
            "text/plain": [
              "<Figure size 360x360 with 1 Axes>"
            ]
          },
          "metadata": {
            "needs_background": "light"
          }
        }
      ]
    },
    {
      "cell_type": "code",
      "metadata": {
        "id": "dihis-WlzqLV"
      },
      "source": [
        "#create Date from timeStamp\n",
        "t=df['timeStamp'].iloc[0]"
      ],
      "execution_count": 82,
      "outputs": []
    },
    {
      "cell_type": "code",
      "metadata": {
        "colab": {
          "base_uri": "https://localhost:8080/"
        },
        "id": "Lw7nPZw2z-h8",
        "outputId": "9eeadc5d-3b02-491e-c264-65f7a2a37088"
      },
      "source": [
        "t"
      ],
      "execution_count": 83,
      "outputs": [
        {
          "output_type": "execute_result",
          "data": {
            "text/plain": [
              "Timestamp('2015-12-10 17:10:52')"
            ]
          },
          "metadata": {},
          "execution_count": 83
        }
      ]
    },
    {
      "cell_type": "code",
      "metadata": {
        "colab": {
          "base_uri": "https://localhost:8080/"
        },
        "id": "nID81ulvz-3h",
        "outputId": "e75f3edf-084e-4194-dc0d-eb333327d99d"
      },
      "source": [
        "t.date()"
      ],
      "execution_count": 85,
      "outputs": [
        {
          "output_type": "execute_result",
          "data": {
            "text/plain": [
              "datetime.date(2015, 12, 10)"
            ]
          },
          "metadata": {},
          "execution_count": 85
        }
      ]
    },
    {
      "cell_type": "code",
      "metadata": {
        "id": "QW_AhbNu0Azg"
      },
      "source": [
        "df['Date']=df['timeStamp'].apply(lambda time: time.date())"
      ],
      "execution_count": 86,
      "outputs": []
    },
    {
      "cell_type": "code",
      "metadata": {
        "colab": {
          "base_uri": "https://localhost:8080/"
        },
        "id": "RtZO6kGv0Mhv",
        "outputId": "2d6d8197-12f3-4584-a1cb-d151d43174b1"
      },
      "source": [
        "df['Date']"
      ],
      "execution_count": 87,
      "outputs": [
        {
          "output_type": "execute_result",
          "data": {
            "text/plain": [
              "0         2015-12-10\n",
              "1         2015-12-10\n",
              "2         2015-12-10\n",
              "3         2015-12-10\n",
              "4         2015-12-10\n",
              "             ...    \n",
              "289235    2017-12-30\n",
              "289236    2017-12-30\n",
              "289237    2017-12-30\n",
              "289238    2017-12-30\n",
              "289239    2017-12-30\n",
              "Name: Date, Length: 289240, dtype: object"
            ]
          },
          "metadata": {},
          "execution_count": 87
        }
      ]
    },
    {
      "cell_type": "code",
      "metadata": {
        "id": "jrX1YzRo0NqJ"
      },
      "source": [
        "groupby_date=df.groupby('Date').count()"
      ],
      "execution_count": 92,
      "outputs": []
    },
    {
      "cell_type": "code",
      "metadata": {
        "colab": {
          "base_uri": "https://localhost:8080/",
          "height": 450
        },
        "id": "wdWqnkcu0VeP",
        "outputId": "b9299b51-dc6c-4418-9f39-65838f038436"
      },
      "source": [
        "groupby_date"
      ],
      "execution_count": 93,
      "outputs": [
        {
          "output_type": "execute_result",
          "data": {
            "text/html": [
              "<div>\n",
              "<style scoped>\n",
              "    .dataframe tbody tr th:only-of-type {\n",
              "        vertical-align: middle;\n",
              "    }\n",
              "\n",
              "    .dataframe tbody tr th {\n",
              "        vertical-align: top;\n",
              "    }\n",
              "\n",
              "    .dataframe thead th {\n",
              "        text-align: right;\n",
              "    }\n",
              "</style>\n",
              "<table border=\"1\" class=\"dataframe\">\n",
              "  <thead>\n",
              "    <tr style=\"text-align: right;\">\n",
              "      <th></th>\n",
              "      <th>lat</th>\n",
              "      <th>lng</th>\n",
              "      <th>desc</th>\n",
              "      <th>zip</th>\n",
              "      <th>title</th>\n",
              "      <th>timeStamp</th>\n",
              "      <th>twp</th>\n",
              "      <th>addr</th>\n",
              "      <th>e</th>\n",
              "      <th>Reason</th>\n",
              "      <th>Hour</th>\n",
              "      <th>Month</th>\n",
              "      <th>Day of Week</th>\n",
              "    </tr>\n",
              "    <tr>\n",
              "      <th>Date</th>\n",
              "      <th></th>\n",
              "      <th></th>\n",
              "      <th></th>\n",
              "      <th></th>\n",
              "      <th></th>\n",
              "      <th></th>\n",
              "      <th></th>\n",
              "      <th></th>\n",
              "      <th></th>\n",
              "      <th></th>\n",
              "      <th></th>\n",
              "      <th></th>\n",
              "      <th></th>\n",
              "    </tr>\n",
              "  </thead>\n",
              "  <tbody>\n",
              "    <tr>\n",
              "      <th>2015-12-10</th>\n",
              "      <td>114</td>\n",
              "      <td>114</td>\n",
              "      <td>114</td>\n",
              "      <td>100</td>\n",
              "      <td>114</td>\n",
              "      <td>114</td>\n",
              "      <td>114</td>\n",
              "      <td>114</td>\n",
              "      <td>114</td>\n",
              "      <td>114</td>\n",
              "      <td>114</td>\n",
              "      <td>114</td>\n",
              "      <td>114</td>\n",
              "    </tr>\n",
              "    <tr>\n",
              "      <th>2015-12-11</th>\n",
              "      <td>391</td>\n",
              "      <td>391</td>\n",
              "      <td>391</td>\n",
              "      <td>332</td>\n",
              "      <td>391</td>\n",
              "      <td>391</td>\n",
              "      <td>391</td>\n",
              "      <td>391</td>\n",
              "      <td>391</td>\n",
              "      <td>391</td>\n",
              "      <td>391</td>\n",
              "      <td>391</td>\n",
              "      <td>391</td>\n",
              "    </tr>\n",
              "    <tr>\n",
              "      <th>2015-12-12</th>\n",
              "      <td>402</td>\n",
              "      <td>402</td>\n",
              "      <td>402</td>\n",
              "      <td>334</td>\n",
              "      <td>402</td>\n",
              "      <td>402</td>\n",
              "      <td>402</td>\n",
              "      <td>402</td>\n",
              "      <td>402</td>\n",
              "      <td>402</td>\n",
              "      <td>402</td>\n",
              "      <td>402</td>\n",
              "      <td>402</td>\n",
              "    </tr>\n",
              "    <tr>\n",
              "      <th>2015-12-13</th>\n",
              "      <td>316</td>\n",
              "      <td>316</td>\n",
              "      <td>316</td>\n",
              "      <td>279</td>\n",
              "      <td>316</td>\n",
              "      <td>316</td>\n",
              "      <td>316</td>\n",
              "      <td>316</td>\n",
              "      <td>316</td>\n",
              "      <td>316</td>\n",
              "      <td>316</td>\n",
              "      <td>316</td>\n",
              "      <td>316</td>\n",
              "    </tr>\n",
              "    <tr>\n",
              "      <th>2015-12-14</th>\n",
              "      <td>444</td>\n",
              "      <td>444</td>\n",
              "      <td>444</td>\n",
              "      <td>386</td>\n",
              "      <td>444</td>\n",
              "      <td>444</td>\n",
              "      <td>443</td>\n",
              "      <td>444</td>\n",
              "      <td>444</td>\n",
              "      <td>444</td>\n",
              "      <td>444</td>\n",
              "      <td>444</td>\n",
              "      <td>444</td>\n",
              "    </tr>\n",
              "    <tr>\n",
              "      <th>...</th>\n",
              "      <td>...</td>\n",
              "      <td>...</td>\n",
              "      <td>...</td>\n",
              "      <td>...</td>\n",
              "      <td>...</td>\n",
              "      <td>...</td>\n",
              "      <td>...</td>\n",
              "      <td>...</td>\n",
              "      <td>...</td>\n",
              "      <td>...</td>\n",
              "      <td>...</td>\n",
              "      <td>...</td>\n",
              "      <td>...</td>\n",
              "    </tr>\n",
              "    <tr>\n",
              "      <th>2017-12-26</th>\n",
              "      <td>373</td>\n",
              "      <td>373</td>\n",
              "      <td>373</td>\n",
              "      <td>316</td>\n",
              "      <td>373</td>\n",
              "      <td>373</td>\n",
              "      <td>373</td>\n",
              "      <td>373</td>\n",
              "      <td>373</td>\n",
              "      <td>373</td>\n",
              "      <td>373</td>\n",
              "      <td>373</td>\n",
              "      <td>373</td>\n",
              "    </tr>\n",
              "    <tr>\n",
              "      <th>2017-12-27</th>\n",
              "      <td>387</td>\n",
              "      <td>387</td>\n",
              "      <td>387</td>\n",
              "      <td>332</td>\n",
              "      <td>387</td>\n",
              "      <td>387</td>\n",
              "      <td>387</td>\n",
              "      <td>387</td>\n",
              "      <td>387</td>\n",
              "      <td>387</td>\n",
              "      <td>387</td>\n",
              "      <td>387</td>\n",
              "      <td>387</td>\n",
              "    </tr>\n",
              "    <tr>\n",
              "      <th>2017-12-28</th>\n",
              "      <td>352</td>\n",
              "      <td>352</td>\n",
              "      <td>352</td>\n",
              "      <td>324</td>\n",
              "      <td>352</td>\n",
              "      <td>352</td>\n",
              "      <td>352</td>\n",
              "      <td>352</td>\n",
              "      <td>352</td>\n",
              "      <td>352</td>\n",
              "      <td>352</td>\n",
              "      <td>352</td>\n",
              "      <td>352</td>\n",
              "    </tr>\n",
              "    <tr>\n",
              "      <th>2017-12-29</th>\n",
              "      <td>447</td>\n",
              "      <td>447</td>\n",
              "      <td>447</td>\n",
              "      <td>395</td>\n",
              "      <td>447</td>\n",
              "      <td>447</td>\n",
              "      <td>447</td>\n",
              "      <td>447</td>\n",
              "      <td>447</td>\n",
              "      <td>447</td>\n",
              "      <td>447</td>\n",
              "      <td>447</td>\n",
              "      <td>447</td>\n",
              "    </tr>\n",
              "    <tr>\n",
              "      <th>2017-12-30</th>\n",
              "      <td>245</td>\n",
              "      <td>245</td>\n",
              "      <td>245</td>\n",
              "      <td>178</td>\n",
              "      <td>245</td>\n",
              "      <td>245</td>\n",
              "      <td>245</td>\n",
              "      <td>245</td>\n",
              "      <td>245</td>\n",
              "      <td>245</td>\n",
              "      <td>245</td>\n",
              "      <td>245</td>\n",
              "      <td>245</td>\n",
              "    </tr>\n",
              "  </tbody>\n",
              "</table>\n",
              "<p>751 rows × 13 columns</p>\n",
              "</div>"
            ],
            "text/plain": [
              "            lat  lng  desc  zip  title  ...    e  Reason  Hour  Month  Day of Week\n",
              "Date                                    ...                                       \n",
              "2015-12-10  114  114   114  100    114  ...  114     114   114    114          114\n",
              "2015-12-11  391  391   391  332    391  ...  391     391   391    391          391\n",
              "2015-12-12  402  402   402  334    402  ...  402     402   402    402          402\n",
              "2015-12-13  316  316   316  279    316  ...  316     316   316    316          316\n",
              "2015-12-14  444  444   444  386    444  ...  444     444   444    444          444\n",
              "...         ...  ...   ...  ...    ...  ...  ...     ...   ...    ...          ...\n",
              "2017-12-26  373  373   373  316    373  ...  373     373   373    373          373\n",
              "2017-12-27  387  387   387  332    387  ...  387     387   387    387          387\n",
              "2017-12-28  352  352   352  324    352  ...  352     352   352    352          352\n",
              "2017-12-29  447  447   447  395    447  ...  447     447   447    447          447\n",
              "2017-12-30  245  245   245  178    245  ...  245     245   245    245          245\n",
              "\n",
              "[751 rows x 13 columns]"
            ]
          },
          "metadata": {},
          "execution_count": 93
        }
      ]
    },
    {
      "cell_type": "code",
      "metadata": {
        "colab": {
          "base_uri": "https://localhost:8080/",
          "height": 297
        },
        "id": "rXh_1KdR0Wa_",
        "outputId": "c1e7a6e9-5e90-426d-bbb9-437fdfae93ca"
      },
      "source": [
        "groupby_date['lat'].plot()\n",
        "plt.tight_layout() #fix the x-axis"
      ],
      "execution_count": 95,
      "outputs": [
        {
          "output_type": "display_data",
          "data": {
            "image/png": "[encoded data removed]",
            "text/plain": [
              "<Figure size 432x288 with 1 Axes>"
            ]
          },
          "metadata": {
            "needs_background": "light"
          }
        }
      ]
    },
    {
      "cell_type": "code",
      "metadata": {
        "id": "um06nqK70naf"
      },
      "source": [
        "groupby_date['reason']=df['Reason']"
      ],
      "execution_count": 96,
      "outputs": []
    },
    {
      "cell_type": "code",
      "metadata": {
        "colab": {
          "base_uri": "https://localhost:8080/",
          "height": 450
        },
        "id": "IdVZ2KMz1gyW",
        "outputId": "80f5da0d-086f-4458-d427-f9a6bae59204"
      },
      "source": [
        "groupby_date"
      ],
      "execution_count": 98,
      "outputs": [
        {
          "output_type": "execute_result",
          "data": {
            "text/html": [
              "<div>\n",
              "<style scoped>\n",
              "    .dataframe tbody tr th:only-of-type {\n",
              "        vertical-align: middle;\n",
              "    }\n",
              "\n",
              "    .dataframe tbody tr th {\n",
              "        vertical-align: top;\n",
              "    }\n",
              "\n",
              "    .dataframe thead th {\n",
              "        text-align: right;\n",
              "    }\n",
              "</style>\n",
              "<table border=\"1\" class=\"dataframe\">\n",
              "  <thead>\n",
              "    <tr style=\"text-align: right;\">\n",
              "      <th></th>\n",
              "      <th>lat</th>\n",
              "      <th>lng</th>\n",
              "      <th>desc</th>\n",
              "      <th>zip</th>\n",
              "      <th>title</th>\n",
              "      <th>timeStamp</th>\n",
              "      <th>twp</th>\n",
              "      <th>addr</th>\n",
              "      <th>e</th>\n",
              "      <th>Reason</th>\n",
              "      <th>Hour</th>\n",
              "      <th>Month</th>\n",
              "      <th>Day of Week</th>\n",
              "      <th>reason</th>\n",
              "    </tr>\n",
              "    <tr>\n",
              "      <th>Date</th>\n",
              "      <th></th>\n",
              "      <th></th>\n",
              "      <th></th>\n",
              "      <th></th>\n",
              "      <th></th>\n",
              "      <th></th>\n",
              "      <th></th>\n",
              "      <th></th>\n",
              "      <th></th>\n",
              "      <th></th>\n",
              "      <th></th>\n",
              "      <th></th>\n",
              "      <th></th>\n",
              "      <th></th>\n",
              "    </tr>\n",
              "  </thead>\n",
              "  <tbody>\n",
              "    <tr>\n",
              "      <th>2015-12-10</th>\n",
              "      <td>114</td>\n",
              "      <td>114</td>\n",
              "      <td>114</td>\n",
              "      <td>100</td>\n",
              "      <td>114</td>\n",
              "      <td>114</td>\n",
              "      <td>114</td>\n",
              "      <td>114</td>\n",
              "      <td>114</td>\n",
              "      <td>114</td>\n",
              "      <td>114</td>\n",
              "      <td>114</td>\n",
              "      <td>114</td>\n",
              "      <td>NaN</td>\n",
              "    </tr>\n",
              "    <tr>\n",
              "      <th>2015-12-11</th>\n",
              "      <td>391</td>\n",
              "      <td>391</td>\n",
              "      <td>391</td>\n",
              "      <td>332</td>\n",
              "      <td>391</td>\n",
              "      <td>391</td>\n",
              "      <td>391</td>\n",
              "      <td>391</td>\n",
              "      <td>391</td>\n",
              "      <td>391</td>\n",
              "      <td>391</td>\n",
              "      <td>391</td>\n",
              "      <td>391</td>\n",
              "      <td>NaN</td>\n",
              "    </tr>\n",
              "    <tr>\n",
              "      <th>2015-12-12</th>\n",
              "      <td>402</td>\n",
              "      <td>402</td>\n",
              "      <td>402</td>\n",
              "      <td>334</td>\n",
              "      <td>402</td>\n",
              "      <td>402</td>\n",
              "      <td>402</td>\n",
              "      <td>402</td>\n",
              "      <td>402</td>\n",
              "      <td>402</td>\n",
              "      <td>402</td>\n",
              "      <td>402</td>\n",
              "      <td>402</td>\n",
              "      <td>NaN</td>\n",
              "    </tr>\n",
              "    <tr>\n",
              "      <th>2015-12-13</th>\n",
              "      <td>316</td>\n",
              "      <td>316</td>\n",
              "      <td>316</td>\n",
              "      <td>279</td>\n",
              "      <td>316</td>\n",
              "      <td>316</td>\n",
              "      <td>316</td>\n",
              "      <td>316</td>\n",
              "      <td>316</td>\n",
              "      <td>316</td>\n",
              "      <td>316</td>\n",
              "      <td>316</td>\n",
              "      <td>316</td>\n",
              "      <td>NaN</td>\n",
              "    </tr>\n",
              "    <tr>\n",
              "      <th>2015-12-14</th>\n",
              "      <td>444</td>\n",
              "      <td>444</td>\n",
              "      <td>444</td>\n",
              "      <td>386</td>\n",
              "      <td>444</td>\n",
              "      <td>444</td>\n",
              "      <td>443</td>\n",
              "      <td>444</td>\n",
              "      <td>444</td>\n",
              "      <td>444</td>\n",
              "      <td>444</td>\n",
              "      <td>444</td>\n",
              "      <td>444</td>\n",
              "      <td>NaN</td>\n",
              "    </tr>\n",
              "    <tr>\n",
              "      <th>...</th>\n",
              "      <td>...</td>\n",
              "      <td>...</td>\n",
              "      <td>...</td>\n",
              "      <td>...</td>\n",
              "      <td>...</td>\n",
              "      <td>...</td>\n",
              "      <td>...</td>\n",
              "      <td>...</td>\n",
              "      <td>...</td>\n",
              "      <td>...</td>\n",
              "      <td>...</td>\n",
              "      <td>...</td>\n",
              "      <td>...</td>\n",
              "      <td>...</td>\n",
              "    </tr>\n",
              "    <tr>\n",
              "      <th>2017-12-26</th>\n",
              "      <td>373</td>\n",
              "      <td>373</td>\n",
              "      <td>373</td>\n",
              "      <td>316</td>\n",
              "      <td>373</td>\n",
              "      <td>373</td>\n",
              "      <td>373</td>\n",
              "      <td>373</td>\n",
              "      <td>373</td>\n",
              "      <td>373</td>\n",
              "      <td>373</td>\n",
              "      <td>373</td>\n",
              "      <td>373</td>\n",
              "      <td>NaN</td>\n",
              "    </tr>\n",
              "    <tr>\n",
              "      <th>2017-12-27</th>\n",
              "      <td>387</td>\n",
              "      <td>387</td>\n",
              "      <td>387</td>\n",
              "      <td>332</td>\n",
              "      <td>387</td>\n",
              "      <td>387</td>\n",
              "      <td>387</td>\n",
              "      <td>387</td>\n",
              "      <td>387</td>\n",
              "      <td>387</td>\n",
              "      <td>387</td>\n",
              "      <td>387</td>\n",
              "      <td>387</td>\n",
              "      <td>NaN</td>\n",
              "    </tr>\n",
              "    <tr>\n",
              "      <th>2017-12-28</th>\n",
              "      <td>352</td>\n",
              "      <td>352</td>\n",
              "      <td>352</td>\n",
              "      <td>324</td>\n",
              "      <td>352</td>\n",
              "      <td>352</td>\n",
              "      <td>352</td>\n",
              "      <td>352</td>\n",
              "      <td>352</td>\n",
              "      <td>352</td>\n",
              "      <td>352</td>\n",
              "      <td>352</td>\n",
              "      <td>352</td>\n",
              "      <td>NaN</td>\n",
              "    </tr>\n",
              "    <tr>\n",
              "      <th>2017-12-29</th>\n",
              "      <td>447</td>\n",
              "      <td>447</td>\n",
              "      <td>447</td>\n",
              "      <td>395</td>\n",
              "      <td>447</td>\n",
              "      <td>447</td>\n",
              "      <td>447</td>\n",
              "      <td>447</td>\n",
              "      <td>447</td>\n",
              "      <td>447</td>\n",
              "      <td>447</td>\n",
              "      <td>447</td>\n",
              "      <td>447</td>\n",
              "      <td>NaN</td>\n",
              "    </tr>\n",
              "    <tr>\n",
              "      <th>2017-12-30</th>\n",
              "      <td>245</td>\n",
              "      <td>245</td>\n",
              "      <td>245</td>\n",
              "      <td>178</td>\n",
              "      <td>245</td>\n",
              "      <td>245</td>\n",
              "      <td>245</td>\n",
              "      <td>245</td>\n",
              "      <td>245</td>\n",
              "      <td>245</td>\n",
              "      <td>245</td>\n",
              "      <td>245</td>\n",
              "      <td>245</td>\n",
              "      <td>NaN</td>\n",
              "    </tr>\n",
              "  </tbody>\n",
              "</table>\n",
              "<p>751 rows × 14 columns</p>\n",
              "</div>"
            ],
            "text/plain": [
              "            lat  lng  desc  zip  title  ...  Reason  Hour  Month  Day of Week  reason\n",
              "Date                                    ...                                          \n",
              "2015-12-10  114  114   114  100    114  ...     114   114    114          114     NaN\n",
              "2015-12-11  391  391   391  332    391  ...     391   391    391          391     NaN\n",
              "2015-12-12  402  402   402  334    402  ...     402   402    402          402     NaN\n",
              "2015-12-13  316  316   316  279    316  ...     316   316    316          316     NaN\n",
              "2015-12-14  444  444   444  386    444  ...     444   444    444          444     NaN\n",
              "...         ...  ...   ...  ...    ...  ...     ...   ...    ...          ...     ...\n",
              "2017-12-26  373  373   373  316    373  ...     373   373    373          373     NaN\n",
              "2017-12-27  387  387   387  332    387  ...     387   387    387          387     NaN\n",
              "2017-12-28  352  352   352  324    352  ...     352   352    352          352     NaN\n",
              "2017-12-29  447  447   447  395    447  ...     447   447    447          447     NaN\n",
              "2017-12-30  245  245   245  178    245  ...     245   245    245          245     NaN\n",
              "\n",
              "[751 rows x 14 columns]"
            ]
          },
          "metadata": {},
          "execution_count": 98
        }
      ]
    },
    {
      "cell_type": "code",
      "metadata": {
        "colab": {
          "base_uri": "https://localhost:8080/",
          "height": 312
        },
        "id": "c5UH_wvJ1iD5",
        "outputId": "ef7b13de-987a-476f-b393-50fd20f34722"
      },
      "source": [
        "df[df['Reason']=='Traffic'].groupby('Date').count()['lat'].plot()\n",
        "plt.title('Traffic')"
      ],
      "execution_count": 106,
      "outputs": [
        {
          "output_type": "execute_result",
          "data": {
            "text/plain": [
              "Text(0.5, 1.0, 'Traffic')"
            ]
          },
          "metadata": {},
          "execution_count": 106
        },
        {
          "output_type": "display_data",
          "data": {
            "image/png": "[encoded data removed]",
            "text/plain": [
              "<Figure size 432x288 with 1 Axes>"
            ]
          },
          "metadata": {
            "needs_background": "light"
          }
        }
      ]
    },
    {
      "cell_type": "code",
      "metadata": {
        "colab": {
          "base_uri": "https://localhost:8080/",
          "height": 312
        },
        "id": "jPcEZlec1nqs",
        "outputId": "d57fce04-e150-4328-96d2-b6b75a88970e"
      },
      "source": [
        "df[df['Reason']=='Fire'].groupby('Date').count()['lat'].plot()\n",
        "plt.title('Fire')"
      ],
      "execution_count": 109,
      "outputs": [
        {
          "output_type": "execute_result",
          "data": {
            "text/plain": [
              "Text(0.5, 1.0, 'Fire')"
            ]
          },
          "metadata": {},
          "execution_count": 109
        },
        {
          "output_type": "display_data",
          "data": {
            "image/png": "[encoded data removed]",
            "text/plain": [
              "<Figure size 432x288 with 1 Axes>"
            ]
          },
          "metadata": {
            "needs_background": "light"
          }
        }
      ]
    },
    {
      "cell_type": "code",
      "metadata": {
        "colab": {
          "base_uri": "https://localhost:8080/",
          "height": 312
        },
        "id": "omGRoPmK2IZV",
        "outputId": "82f52bfb-4bec-4680-a43f-3dfd002897b7"
      },
      "source": [
        "df[df['Reason']=='EMS'].groupby('Date').count()['lat'].plot()\n",
        "plt.title('EMS')"
      ],
      "execution_count": 110,
      "outputs": [
        {
          "output_type": "execute_result",
          "data": {
            "text/plain": [
              "Text(0.5, 1.0, 'EMS')"
            ]
          },
          "metadata": {},
          "execution_count": 110
        },
        {
          "output_type": "display_data",
          "data": {
            "image/png": "[encoded data removed]",
            "text/plain": [
              "<Figure size 432x288 with 1 Axes>"
            ]
          },
          "metadata": {
            "needs_background": "light"
          }
        }
      ]
    },
    {
      "cell_type": "markdown",
      "metadata": {
        "id": "i-xUc6Ch2V9H"
      },
      "source": [
        "# Unstack\n",
        "heatmap "
      ]
    },
    {
      "cell_type": "code",
      "metadata": {
        "id": "_fGMEPxf2Jiq"
      },
      "source": [
        "groupby_day_hour=df.groupby(by=['Day of Week','Hour']).count()['Reason'].unstack()"
      ],
      "execution_count": 116,
      "outputs": []
    },
    {
      "cell_type": "code",
      "metadata": {
        "colab": {
          "base_uri": "https://localhost:8080/",
          "height": 623
        },
        "id": "hdtL3gZiJ9m1",
        "outputId": "c7655506-a07c-4647-dba2-68805fec2b99"
      },
      "source": [
        "plt.figure(figsize=(15,10))\n",
        "sns.heatmap(groupby_day_hour,cmap='viridis')"
      ],
      "execution_count": 123,
      "outputs": [
        {
          "output_type": "execute_result",
          "data": {
            "text/plain": [
              "<matplotlib.axes._subplots.AxesSubplot at 0x7f8bd9f85050>"
            ]
          },
          "metadata": {},
          "execution_count": 123
        },
        {
          "output_type": "display_data",
          "data": {
            "image/png": "[encoded data removed]",
            "text/plain": [
              "<Figure size 1080x720 with 2 Axes>"
            ]
          },
          "metadata": {
            "needs_background": "light"
          }
        }
      ]
    },
    {
      "cell_type": "code",
      "metadata": {
        "colab": {
          "base_uri": "https://localhost:8080/",
          "height": 763
        },
        "id": "SX-b4gZJMb-P",
        "outputId": "9747d90b-7585-46a3-edf5-c91105df3444"
      },
      "source": [
        "plt.figure(figsize=(20,15))\n",
        "sns.clustermap(groupby_day_hour)"
      ],
      "execution_count": 125,
      "outputs": [
        {
          "output_type": "execute_result",
          "data": {
            "text/plain": [
              "<seaborn.matrix.ClusterGrid at 0x7f8bd16a6a10>"
            ]
          },
          "metadata": {},
          "execution_count": 125
        },
        {
          "output_type": "display_data",
          "data": {
            "text/plain": [
              "<Figure size 1440x1080 with 0 Axes>"
            ]
          },
          "metadata": {}
        },
        {
          "output_type": "display_data",
          "data": {
            "image/png": "[encoded data removed]",
            "text/plain": [
              "<Figure size 720x720 with 4 Axes>"
            ]
          },
          "metadata": {
            "needs_background": "light"
          }
        }
      ]
    },
    {
      "cell_type": "code",
      "metadata": {
        "id": "979WWIYxM8zR"
      },
      "source": [
        "mask=np.zeros_like(df.corr())"
      ],
      "execution_count": 126,
      "outputs": []
    },
    {
      "cell_type": "code",
      "metadata": {
        "id": "n9ajd7ewN1ml"
      },
      "source": [
        "triangle_indices=np.triu_indices_from(mask)"
      ],
      "execution_count": 128,
      "outputs": []
    },
    {
      "cell_type": "code",
      "metadata": {
        "colab": {
          "base_uri": "https://localhost:8080/"
        },
        "id": "EeolDRENN2Uk",
        "outputId": "3e393cea-bbaa-4260-8191-44643e2728d3"
      },
      "source": [
        "triangle_indices"
      ],
      "execution_count": 129,
      "outputs": [
        {
          "output_type": "execute_result",
          "data": {
            "text/plain": [
              "(array([0, 0, 0, 0, 0, 0, 1, 1, 1, 1, 1, 2, 2, 2, 2, 3, 3, 3, 4, 4, 5]),\n",
              " array([0, 1, 2, 3, 4, 5, 1, 2, 3, 4, 5, 2, 3, 4, 5, 3, 4, 5, 4, 5, 5]))"
            ]
          },
          "metadata": {},
          "execution_count": 129
        }
      ]
    },
    {
      "cell_type": "code",
      "metadata": {
        "id": "5ou0NRt4N__v"
      },
      "source": [
        "mask[triangle_indices] = True"
      ],
      "execution_count": 130,
      "outputs": []
    },
    {
      "cell_type": "code",
      "metadata": {
        "colab": {
          "base_uri": "https://localhost:8080/"
        },
        "id": "NGAyHK_8OEfx",
        "outputId": "bbf830f0-011f-40c5-c455-402f19460796"
      },
      "source": [
        "mask"
      ],
      "execution_count": 131,
      "outputs": [
        {
          "output_type": "execute_result",
          "data": {
            "text/plain": [
              "array([[1., 1., 1., 1., 1., 1.],\n",
              "       [0., 1., 1., 1., 1., 1.],\n",
              "       [0., 0., 1., 1., 1., 1.],\n",
              "       [0., 0., 0., 1., 1., 1.],\n",
              "       [0., 0., 0., 0., 1., 1.],\n",
              "       [0., 0., 0., 0., 0., 1.]])"
            ]
          },
          "metadata": {},
          "execution_count": 131
        }
      ]
    },
    {
      "cell_type": "code",
      "metadata": {
        "colab": {
          "base_uri": "https://localhost:8080/",
          "height": 51
        },
        "id": "Figj7JVCOFGs",
        "outputId": "b7544c84-59d9-4a03-a68e-7988e4256aff"
      },
      "source": [
        "plt.figure(figsize=(16,10))"
      ],
      "execution_count": 132,
      "outputs": [
        {
          "output_type": "execute_result",
          "data": {
            "text/plain": [
              "<Figure size 1152x720 with 0 Axes>"
            ]
          },
          "metadata": {},
          "execution_count": 132
        },
        {
          "output_type": "display_data",
          "data": {
            "text/plain": [
              "<Figure size 1152x720 with 0 Axes>"
            ]
          },
          "metadata": {}
        }
      ]
    },
    {
      "cell_type": "code",
      "metadata": {
        "colab": {
          "base_uri": "https://localhost:8080/",
          "height": 286
        },
        "id": "-eqtHWn4OKmf",
        "outputId": "e6f2ab5c-dd95-4c57-b418-22252c0fbd93"
      },
      "source": [
        "sns.heatmap(df.corr())"
      ],
      "execution_count": 133,
      "outputs": [
        {
          "output_type": "execute_result",
          "data": {
            "text/plain": [
              "<matplotlib.axes._subplots.AxesSubplot at 0x7f8bd1533810>"
            ]
          },
          "metadata": {},
          "execution_count": 133
        },
        {
          "output_type": "display_data",
          "data": {
            "image/png": "[encoded data removed]",
            "text/plain": [
              "<Figure size 432x288 with 2 Axes>"
            ]
          },
          "metadata": {
            "needs_background": "light"
          }
        }
      ]
    },
    {
      "cell_type": "code",
      "metadata": {
        "id": "sCYBLh98ON7g"
      },
      "source": [
        ""
      ],
      "execution_count": null,
      "outputs": []
    }
  ]
}