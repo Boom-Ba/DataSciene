{
  "nbformat": 4,
  "nbformat_minor": 0,
  "metadata": {
    "colab": {
      "name": "Regularization.ipynb",
      "provenance": [],
      "collapsed_sections": [],
      "authorship_tag": "ABX9TyM5yw4P7LD51YyZFPseGZ76",
      "include_colab_link": true
    },
    "kernelspec": {
      "name": "python3",
      "display_name": "Python 3"
    },
    "language_info": {
      "name": "python"
    }
  },
  "cells": [
    {
      "cell_type": "markdown",
      "metadata": {
        "id": "view-in-github",
        "colab_type": "text"
      },
      "source": [
        "<a href=\"https://colab.research.google.com/github/Boom-Ba/DataSciene/blob/main/Regularization.ipynb\" target=\"_parent\"><img src=\"https://colab.research.google.com/assets/colab-badge.svg\" alt=\"Open In Colab\"/></a>"
      ]
    },
    {
      "cell_type": "markdown",
      "metadata": {
        "id": "ko0cWUbde3Vp"
      },
      "source": [
        "##DropOut Regularization \n",
        "\n",
        "A methodology to helps prevent overfitting, and make NN spread out its learning on more neurons."
      ]
    },
    {
      "cell_type": "code",
      "metadata": {
        "id": "PbbFP9OX04zf"
      },
      "source": [
        "# Use make_classification method to randomly generate clustering problem\n",
        "\n",
        "%matplotlib inline\n",
        "import numpy as np\n",
        "import matplotlib.pyplot as plt\n",
        "from matplotlib import cm\n",
        "from sklearn.datasets import make_classification\n",
        "import tensorflow as tf\n",
        "from tensorflow import keras\n",
        "from tensorflow.keras.models import Sequential\n",
        "from tensorflow.keras.layers import Dense, Conv2D, MaxPooling2D, Dropout, Flatten\n",
        "\n",
        "X,y=make_classification(n_features=2, n_classes=4, n_samples=10000, n_redundant=0, n_informative=2,random_state=7,n_clusters_per_class=1,scale=0.25)"
      ],
      "execution_count": 23,
      "outputs": []
    },
    {
      "cell_type": "markdown",
      "metadata": {
        "id": "1dsbmlz61-jy"
      },
      "source": [
        "Visualize the plot"
      ]
    },
    {
      "cell_type": "code",
      "metadata": {
        "colab": {
          "base_uri": "https://localhost:8080/",
          "height": 211
        },
        "id": "Nwva2AoU1C21",
        "outputId": "98bcc324-9f55-4041-e26e-eb48e6e5c403"
      },
      "source": [
        "from pylab import *\n",
        "plt.figure(figsize=(4,3))\n",
        "plt.scatter(X[:,0],X[:,1],c=y.astype(np.float))\n",
        "plt.show()"
      ],
      "execution_count": 24,
      "outputs": [
        {
          "output_type": "display_data",
          "data": {
            "image/png": "[encoded data removed]",
            "text/plain": [
              "<Figure size 288x216 with 1 Axes>"
            ]
          },
          "metadata": {
            "needs_background": "light"
          }
        }
      ]
    },
    {
      "cell_type": "code",
      "metadata": {
        "id": "hUUADc_w2j1q"
      },
      "source": [
        "from sklearn.model_selection import train_test_split\n",
        "from tensorflow.keras.models import Sequential \n",
        "from tensorflow.keras.layers import Dense\n"
      ],
      "execution_count": 25,
      "outputs": []
    },
    {
      "cell_type": "code",
      "metadata": {
        "id": "F7ikhG4YfmG8"
      },
      "source": [
        "y=keras.utils.to_categorical(y)"
      ],
      "execution_count": 26,
      "outputs": []
    },
    {
      "cell_type": "code",
      "metadata": {
        "colab": {
          "base_uri": "https://localhost:8080/"
        },
        "id": "keqk8KRhgm6Q",
        "outputId": "12899de2-155c-4ca8-9ec5-9bec5b871b23"
      },
      "source": [
        "X_train, X_test, y_train, y_test=train_test_split(X,y,test_size=0.2, random_state=7)\n",
        "print(X_train.shape, X_test.shape)"
      ],
      "execution_count": 33,
      "outputs": [
        {
          "output_type": "stream",
          "name": "stdout",
          "text": [
            "(8000, 2) (2000, 2)\n"
          ]
        }
      ]
    },
    {
      "cell_type": "code",
      "metadata": {
        "colab": {
          "base_uri": "https://localhost:8080/"
        },
        "id": "JLyqu-ngg7nF",
        "outputId": "8baff5ce-3cbe-403f-aedb-e6369d3f65da"
      },
      "source": [
        "model=Sequential() \n",
        "model.add(Dense(32, activation='relu',input_shape=X_train.shape[1:])) \n",
        "model.add(Dropout(0.2))\n",
        "model.add(Dense(8, activation='relu'))\n",
        "model.add(Dropout(0.2))\n",
        "model.add(Dense(4, activation='softmax')) \n",
        "\n",
        "model.compile(loss='categorical_crossentropy',optimizer='adam',metrics=['accuracy'])\n",
        "\n",
        "print(model.summary())\n"
      ],
      "execution_count": 42,
      "outputs": [
        {
          "output_type": "stream",
          "name": "stdout",
          "text": [
            "Model: \"sequential_7\"\n",
            "_________________________________________________________________\n",
            " Layer (type)                Output Shape              Param #   \n",
            "=================================================================\n",
            " dense_21 (Dense)            (None, 32)                96        \n",
            "                                                                 \n",
            " dropout_4 (Dropout)         (None, 32)                0         \n",
            "                                                                 \n",
            " dense_22 (Dense)            (None, 8)                 264       \n",
            "                                                                 \n",
            " dropout_5 (Dropout)         (None, 8)                 0         \n",
            "                                                                 \n",
            " dense_23 (Dense)            (None, 4)                 36        \n",
            "                                                                 \n",
            "=================================================================\n",
            "Total params: 396\n",
            "Trainable params: 396\n",
            "Non-trainable params: 0\n",
            "_________________________________________________________________\n",
            "None\n"
          ]
        }
      ]
    },
    {
      "cell_type": "code",
      "metadata": {
        "colab": {
          "base_uri": "https://localhost:8080/"
        },
        "id": "lBhVIbdKh6YL",
        "outputId": "ce1548e5-e735-4ba2-ac5b-03cc5ba8cf1e"
      },
      "source": [
        "# will let model run longer to overfit, and apply dropout \n",
        "history = model.fit(X_train, y_train, batch_size=100, epochs=100, verbose=2, validation_data=(X_test,y_test))"
      ],
      "execution_count": 43,
      "outputs": [
        {
          "output_type": "stream",
          "name": "stdout",
          "text": [
            "Epoch 1/100\n",
            "80/80 - 1s - loss: 1.2752 - accuracy: 0.5171 - val_loss: 1.1554 - val_accuracy: 0.7290 - 752ms/epoch - 9ms/step\n",
            "Epoch 2/100\n",
            "80/80 - 0s - loss: 1.0420 - accuracy: 0.6603 - val_loss: 0.8874 - val_accuracy: 0.7615 - 152ms/epoch - 2ms/step\n",
            "Epoch 3/100\n",
            "80/80 - 0s - loss: 0.8499 - accuracy: 0.6754 - val_loss: 0.7085 - val_accuracy: 0.7780 - 153ms/epoch - 2ms/step\n",
            "Epoch 4/100\n",
            "80/80 - 0s - loss: 0.7488 - accuracy: 0.6991 - val_loss: 0.6171 - val_accuracy: 0.7990 - 152ms/epoch - 2ms/step\n",
            "Epoch 5/100\n",
            "80/80 - 0s - loss: 0.6963 - accuracy: 0.7274 - val_loss: 0.5710 - val_accuracy: 0.8120 - 158ms/epoch - 2ms/step\n",
            "Epoch 6/100\n",
            "80/80 - 0s - loss: 0.6645 - accuracy: 0.7416 - val_loss: 0.5397 - val_accuracy: 0.8200 - 148ms/epoch - 2ms/step\n",
            "Epoch 7/100\n",
            "80/80 - 0s - loss: 0.6349 - accuracy: 0.7630 - val_loss: 0.5173 - val_accuracy: 0.8245 - 147ms/epoch - 2ms/step\n",
            "Epoch 8/100\n",
            "80/80 - 0s - loss: 0.6180 - accuracy: 0.7765 - val_loss: 0.5012 - val_accuracy: 0.8265 - 136ms/epoch - 2ms/step\n",
            "Epoch 9/100\n",
            "80/80 - 0s - loss: 0.6042 - accuracy: 0.7770 - val_loss: 0.4874 - val_accuracy: 0.8280 - 147ms/epoch - 2ms/step\n",
            "Epoch 10/100\n",
            "80/80 - 0s - loss: 0.5909 - accuracy: 0.7826 - val_loss: 0.4763 - val_accuracy: 0.8350 - 160ms/epoch - 2ms/step\n",
            "Epoch 11/100\n",
            "80/80 - 0s - loss: 0.5736 - accuracy: 0.7922 - val_loss: 0.4700 - val_accuracy: 0.8315 - 139ms/epoch - 2ms/step\n",
            "Epoch 12/100\n",
            "80/80 - 0s - loss: 0.5601 - accuracy: 0.7954 - val_loss: 0.4591 - val_accuracy: 0.8380 - 147ms/epoch - 2ms/step\n",
            "Epoch 13/100\n",
            "80/80 - 0s - loss: 0.5603 - accuracy: 0.7965 - val_loss: 0.4513 - val_accuracy: 0.8420 - 198ms/epoch - 2ms/step\n",
            "Epoch 14/100\n",
            "80/80 - 0s - loss: 0.5540 - accuracy: 0.7995 - val_loss: 0.4459 - val_accuracy: 0.8470 - 156ms/epoch - 2ms/step\n",
            "Epoch 15/100\n",
            "80/80 - 0s - loss: 0.5492 - accuracy: 0.8024 - val_loss: 0.4394 - val_accuracy: 0.8460 - 154ms/epoch - 2ms/step\n",
            "Epoch 16/100\n",
            "80/80 - 0s - loss: 0.5356 - accuracy: 0.8087 - val_loss: 0.4352 - val_accuracy: 0.8485 - 137ms/epoch - 2ms/step\n",
            "Epoch 17/100\n",
            "80/80 - 0s - loss: 0.5269 - accuracy: 0.8108 - val_loss: 0.4300 - val_accuracy: 0.8500 - 143ms/epoch - 2ms/step\n",
            "Epoch 18/100\n",
            "80/80 - 0s - loss: 0.5269 - accuracy: 0.8129 - val_loss: 0.4278 - val_accuracy: 0.8505 - 144ms/epoch - 2ms/step\n",
            "Epoch 19/100\n",
            "80/80 - 0s - loss: 0.5168 - accuracy: 0.8161 - val_loss: 0.4238 - val_accuracy: 0.8530 - 152ms/epoch - 2ms/step\n",
            "Epoch 20/100\n",
            "80/80 - 0s - loss: 0.5204 - accuracy: 0.8140 - val_loss: 0.4216 - val_accuracy: 0.8550 - 137ms/epoch - 2ms/step\n",
            "Epoch 21/100\n",
            "80/80 - 0s - loss: 0.5163 - accuracy: 0.8138 - val_loss: 0.4183 - val_accuracy: 0.8535 - 137ms/epoch - 2ms/step\n",
            "Epoch 22/100\n",
            "80/80 - 0s - loss: 0.5181 - accuracy: 0.8123 - val_loss: 0.4173 - val_accuracy: 0.8555 - 143ms/epoch - 2ms/step\n",
            "Epoch 23/100\n",
            "80/80 - 0s - loss: 0.5084 - accuracy: 0.8184 - val_loss: 0.4145 - val_accuracy: 0.8600 - 202ms/epoch - 3ms/step\n",
            "Epoch 24/100\n",
            "80/80 - 0s - loss: 0.5031 - accuracy: 0.8200 - val_loss: 0.4110 - val_accuracy: 0.8605 - 135ms/epoch - 2ms/step\n",
            "Epoch 25/100\n",
            "80/80 - 0s - loss: 0.5073 - accuracy: 0.8181 - val_loss: 0.4083 - val_accuracy: 0.8620 - 147ms/epoch - 2ms/step\n",
            "Epoch 26/100\n",
            "80/80 - 0s - loss: 0.4984 - accuracy: 0.8214 - val_loss: 0.4083 - val_accuracy: 0.8595 - 151ms/epoch - 2ms/step\n",
            "Epoch 27/100\n",
            "80/80 - 0s - loss: 0.5047 - accuracy: 0.8181 - val_loss: 0.4047 - val_accuracy: 0.8635 - 147ms/epoch - 2ms/step\n",
            "Epoch 28/100\n",
            "80/80 - 0s - loss: 0.5018 - accuracy: 0.8217 - val_loss: 0.4042 - val_accuracy: 0.8635 - 145ms/epoch - 2ms/step\n",
            "Epoch 29/100\n",
            "80/80 - 0s - loss: 0.4928 - accuracy: 0.8245 - val_loss: 0.4027 - val_accuracy: 0.8640 - 143ms/epoch - 2ms/step\n",
            "Epoch 30/100\n",
            "80/80 - 0s - loss: 0.4928 - accuracy: 0.8220 - val_loss: 0.4030 - val_accuracy: 0.8630 - 142ms/epoch - 2ms/step\n",
            "Epoch 31/100\n",
            "80/80 - 0s - loss: 0.4988 - accuracy: 0.8189 - val_loss: 0.3985 - val_accuracy: 0.8650 - 149ms/epoch - 2ms/step\n",
            "Epoch 32/100\n",
            "80/80 - 0s - loss: 0.4879 - accuracy: 0.8239 - val_loss: 0.3980 - val_accuracy: 0.8685 - 153ms/epoch - 2ms/step\n",
            "Epoch 33/100\n",
            "80/80 - 0s - loss: 0.4925 - accuracy: 0.8216 - val_loss: 0.3977 - val_accuracy: 0.8650 - 141ms/epoch - 2ms/step\n",
            "Epoch 34/100\n",
            "80/80 - 0s - loss: 0.4914 - accuracy: 0.8230 - val_loss: 0.3976 - val_accuracy: 0.8660 - 140ms/epoch - 2ms/step\n",
            "Epoch 35/100\n",
            "80/80 - 0s - loss: 0.4807 - accuracy: 0.8255 - val_loss: 0.3959 - val_accuracy: 0.8705 - 188ms/epoch - 2ms/step\n",
            "Epoch 36/100\n",
            "80/80 - 0s - loss: 0.4896 - accuracy: 0.8217 - val_loss: 0.3937 - val_accuracy: 0.8700 - 142ms/epoch - 2ms/step\n",
            "Epoch 37/100\n",
            "80/80 - 0s - loss: 0.4953 - accuracy: 0.8175 - val_loss: 0.3944 - val_accuracy: 0.8730 - 133ms/epoch - 2ms/step\n",
            "Epoch 38/100\n",
            "80/80 - 0s - loss: 0.4863 - accuracy: 0.8263 - val_loss: 0.3945 - val_accuracy: 0.8675 - 185ms/epoch - 2ms/step\n",
            "Epoch 39/100\n",
            "80/80 - 0s - loss: 0.4830 - accuracy: 0.8264 - val_loss: 0.3915 - val_accuracy: 0.8715 - 136ms/epoch - 2ms/step\n",
            "Epoch 40/100\n",
            "80/80 - 0s - loss: 0.4934 - accuracy: 0.8199 - val_loss: 0.3921 - val_accuracy: 0.8705 - 182ms/epoch - 2ms/step\n",
            "Epoch 41/100\n",
            "80/80 - 0s - loss: 0.4906 - accuracy: 0.8231 - val_loss: 0.3908 - val_accuracy: 0.8720 - 143ms/epoch - 2ms/step\n",
            "Epoch 42/100\n",
            "80/80 - 0s - loss: 0.4866 - accuracy: 0.8235 - val_loss: 0.3916 - val_accuracy: 0.8700 - 146ms/epoch - 2ms/step\n",
            "Epoch 43/100\n",
            "80/80 - 0s - loss: 0.4844 - accuracy: 0.8225 - val_loss: 0.3884 - val_accuracy: 0.8730 - 179ms/epoch - 2ms/step\n",
            "Epoch 44/100\n",
            "80/80 - 0s - loss: 0.4865 - accuracy: 0.8273 - val_loss: 0.3875 - val_accuracy: 0.8740 - 182ms/epoch - 2ms/step\n",
            "Epoch 45/100\n",
            "80/80 - 0s - loss: 0.4706 - accuracy: 0.8279 - val_loss: 0.3891 - val_accuracy: 0.8720 - 150ms/epoch - 2ms/step\n",
            "Epoch 46/100\n",
            "80/80 - 0s - loss: 0.4874 - accuracy: 0.8270 - val_loss: 0.3885 - val_accuracy: 0.8740 - 141ms/epoch - 2ms/step\n",
            "Epoch 47/100\n",
            "80/80 - 0s - loss: 0.4739 - accuracy: 0.8265 - val_loss: 0.3872 - val_accuracy: 0.8745 - 143ms/epoch - 2ms/step\n",
            "Epoch 48/100\n",
            "80/80 - 0s - loss: 0.4825 - accuracy: 0.8285 - val_loss: 0.3849 - val_accuracy: 0.8725 - 144ms/epoch - 2ms/step\n",
            "Epoch 49/100\n",
            "80/80 - 0s - loss: 0.4735 - accuracy: 0.8300 - val_loss: 0.3850 - val_accuracy: 0.8750 - 138ms/epoch - 2ms/step\n",
            "Epoch 50/100\n",
            "80/80 - 0s - loss: 0.4791 - accuracy: 0.8274 - val_loss: 0.3848 - val_accuracy: 0.8745 - 194ms/epoch - 2ms/step\n",
            "Epoch 51/100\n",
            "80/80 - 0s - loss: 0.4766 - accuracy: 0.8260 - val_loss: 0.3840 - val_accuracy: 0.8735 - 148ms/epoch - 2ms/step\n",
            "Epoch 52/100\n",
            "80/80 - 0s - loss: 0.4787 - accuracy: 0.8313 - val_loss: 0.3828 - val_accuracy: 0.8720 - 145ms/epoch - 2ms/step\n",
            "Epoch 53/100\n",
            "80/80 - 0s - loss: 0.4754 - accuracy: 0.8279 - val_loss: 0.3819 - val_accuracy: 0.8750 - 141ms/epoch - 2ms/step\n",
            "Epoch 54/100\n",
            "80/80 - 0s - loss: 0.4749 - accuracy: 0.8282 - val_loss: 0.3824 - val_accuracy: 0.8750 - 155ms/epoch - 2ms/step\n",
            "Epoch 55/100\n",
            "80/80 - 0s - loss: 0.4677 - accuracy: 0.8329 - val_loss: 0.3817 - val_accuracy: 0.8750 - 146ms/epoch - 2ms/step\n",
            "Epoch 56/100\n",
            "80/80 - 0s - loss: 0.4723 - accuracy: 0.8291 - val_loss: 0.3814 - val_accuracy: 0.8755 - 145ms/epoch - 2ms/step\n",
            "Epoch 57/100\n",
            "80/80 - 0s - loss: 0.4718 - accuracy: 0.8316 - val_loss: 0.3819 - val_accuracy: 0.8750 - 178ms/epoch - 2ms/step\n",
            "Epoch 58/100\n",
            "80/80 - 0s - loss: 0.4726 - accuracy: 0.8309 - val_loss: 0.3819 - val_accuracy: 0.8750 - 145ms/epoch - 2ms/step\n",
            "Epoch 59/100\n",
            "80/80 - 0s - loss: 0.4810 - accuracy: 0.8319 - val_loss: 0.3819 - val_accuracy: 0.8735 - 157ms/epoch - 2ms/step\n",
            "Epoch 60/100\n",
            "80/80 - 0s - loss: 0.4721 - accuracy: 0.8307 - val_loss: 0.3785 - val_accuracy: 0.8740 - 142ms/epoch - 2ms/step\n",
            "Epoch 61/100\n",
            "80/80 - 0s - loss: 0.4774 - accuracy: 0.8336 - val_loss: 0.3779 - val_accuracy: 0.8750 - 183ms/epoch - 2ms/step\n",
            "Epoch 62/100\n",
            "80/80 - 0s - loss: 0.4665 - accuracy: 0.8311 - val_loss: 0.3797 - val_accuracy: 0.8740 - 138ms/epoch - 2ms/step\n",
            "Epoch 63/100\n",
            "80/80 - 0s - loss: 0.4676 - accuracy: 0.8282 - val_loss: 0.3758 - val_accuracy: 0.8740 - 140ms/epoch - 2ms/step\n",
            "Epoch 64/100\n",
            "80/80 - 0s - loss: 0.4668 - accuracy: 0.8322 - val_loss: 0.3780 - val_accuracy: 0.8750 - 152ms/epoch - 2ms/step\n",
            "Epoch 65/100\n",
            "80/80 - 0s - loss: 0.4634 - accuracy: 0.8330 - val_loss: 0.3746 - val_accuracy: 0.8740 - 145ms/epoch - 2ms/step\n",
            "Epoch 66/100\n",
            "80/80 - 0s - loss: 0.4684 - accuracy: 0.8320 - val_loss: 0.3751 - val_accuracy: 0.8740 - 148ms/epoch - 2ms/step\n",
            "Epoch 67/100\n",
            "80/80 - 0s - loss: 0.4732 - accuracy: 0.8299 - val_loss: 0.3765 - val_accuracy: 0.8745 - 145ms/epoch - 2ms/step\n",
            "Epoch 68/100\n",
            "80/80 - 0s - loss: 0.4691 - accuracy: 0.8309 - val_loss: 0.3749 - val_accuracy: 0.8735 - 150ms/epoch - 2ms/step\n",
            "Epoch 69/100\n",
            "80/80 - 0s - loss: 0.4664 - accuracy: 0.8288 - val_loss: 0.3739 - val_accuracy: 0.8745 - 142ms/epoch - 2ms/step\n",
            "Epoch 70/100\n",
            "80/80 - 0s - loss: 0.4665 - accuracy: 0.8325 - val_loss: 0.3741 - val_accuracy: 0.8740 - 143ms/epoch - 2ms/step\n",
            "Epoch 71/100\n",
            "80/80 - 0s - loss: 0.4714 - accuracy: 0.8288 - val_loss: 0.3731 - val_accuracy: 0.8750 - 148ms/epoch - 2ms/step\n",
            "Epoch 72/100\n",
            "80/80 - 0s - loss: 0.4640 - accuracy: 0.8369 - val_loss: 0.3718 - val_accuracy: 0.8790 - 184ms/epoch - 2ms/step\n",
            "Epoch 73/100\n",
            "80/80 - 0s - loss: 0.4674 - accuracy: 0.8319 - val_loss: 0.3706 - val_accuracy: 0.8780 - 143ms/epoch - 2ms/step\n",
            "Epoch 74/100\n",
            "80/80 - 0s - loss: 0.4688 - accuracy: 0.8338 - val_loss: 0.3711 - val_accuracy: 0.8795 - 147ms/epoch - 2ms/step\n",
            "Epoch 75/100\n",
            "80/80 - 0s - loss: 0.4606 - accuracy: 0.8388 - val_loss: 0.3705 - val_accuracy: 0.8765 - 139ms/epoch - 2ms/step\n",
            "Epoch 76/100\n",
            "80/80 - 0s - loss: 0.4695 - accuracy: 0.8354 - val_loss: 0.3704 - val_accuracy: 0.8770 - 143ms/epoch - 2ms/step\n",
            "Epoch 77/100\n",
            "80/80 - 0s - loss: 0.4580 - accuracy: 0.8353 - val_loss: 0.3696 - val_accuracy: 0.8775 - 194ms/epoch - 2ms/step\n",
            "Epoch 78/100\n",
            "80/80 - 0s - loss: 0.4684 - accuracy: 0.8338 - val_loss: 0.3689 - val_accuracy: 0.8740 - 167ms/epoch - 2ms/step\n",
            "Epoch 79/100\n",
            "80/80 - 0s - loss: 0.4629 - accuracy: 0.8375 - val_loss: 0.3672 - val_accuracy: 0.8785 - 191ms/epoch - 2ms/step\n",
            "Epoch 80/100\n",
            "80/80 - 0s - loss: 0.4591 - accuracy: 0.8336 - val_loss: 0.3684 - val_accuracy: 0.8765 - 142ms/epoch - 2ms/step\n",
            "Epoch 81/100\n",
            "80/80 - 0s - loss: 0.4608 - accuracy: 0.8359 - val_loss: 0.3662 - val_accuracy: 0.8790 - 152ms/epoch - 2ms/step\n",
            "Epoch 82/100\n",
            "80/80 - 0s - loss: 0.4545 - accuracy: 0.8385 - val_loss: 0.3666 - val_accuracy: 0.8800 - 145ms/epoch - 2ms/step\n",
            "Epoch 83/100\n",
            "80/80 - 0s - loss: 0.4573 - accuracy: 0.8345 - val_loss: 0.3658 - val_accuracy: 0.8795 - 191ms/epoch - 2ms/step\n",
            "Epoch 84/100\n",
            "80/80 - 0s - loss: 0.4586 - accuracy: 0.8360 - val_loss: 0.3658 - val_accuracy: 0.8770 - 140ms/epoch - 2ms/step\n",
            "Epoch 85/100\n",
            "80/80 - 0s - loss: 0.4434 - accuracy: 0.8446 - val_loss: 0.3640 - val_accuracy: 0.8800 - 139ms/epoch - 2ms/step\n",
            "Epoch 86/100\n",
            "80/80 - 0s - loss: 0.4585 - accuracy: 0.8391 - val_loss: 0.3653 - val_accuracy: 0.8810 - 158ms/epoch - 2ms/step\n",
            "Epoch 87/100\n",
            "80/80 - 0s - loss: 0.4580 - accuracy: 0.8357 - val_loss: 0.3649 - val_accuracy: 0.8785 - 141ms/epoch - 2ms/step\n",
            "Epoch 88/100\n",
            "80/80 - 0s - loss: 0.4498 - accuracy: 0.8378 - val_loss: 0.3633 - val_accuracy: 0.8785 - 137ms/epoch - 2ms/step\n",
            "Epoch 89/100\n",
            "80/80 - 0s - loss: 0.4526 - accuracy: 0.8378 - val_loss: 0.3630 - val_accuracy: 0.8815 - 137ms/epoch - 2ms/step\n",
            "Epoch 90/100\n",
            "80/80 - 0s - loss: 0.4564 - accuracy: 0.8399 - val_loss: 0.3640 - val_accuracy: 0.8810 - 147ms/epoch - 2ms/step\n",
            "Epoch 91/100\n",
            "80/80 - 0s - loss: 0.4569 - accuracy: 0.8379 - val_loss: 0.3640 - val_accuracy: 0.8840 - 147ms/epoch - 2ms/step\n",
            "Epoch 92/100\n",
            "80/80 - 0s - loss: 0.4477 - accuracy: 0.8430 - val_loss: 0.3616 - val_accuracy: 0.8820 - 142ms/epoch - 2ms/step\n",
            "Epoch 93/100\n",
            "80/80 - 0s - loss: 0.4488 - accuracy: 0.8366 - val_loss: 0.3616 - val_accuracy: 0.8830 - 142ms/epoch - 2ms/step\n",
            "Epoch 94/100\n",
            "80/80 - 0s - loss: 0.4481 - accuracy: 0.8429 - val_loss: 0.3608 - val_accuracy: 0.8800 - 147ms/epoch - 2ms/step\n",
            "Epoch 95/100\n",
            "80/80 - 0s - loss: 0.4516 - accuracy: 0.8382 - val_loss: 0.3605 - val_accuracy: 0.8785 - 146ms/epoch - 2ms/step\n",
            "Epoch 96/100\n",
            "80/80 - 0s - loss: 0.4419 - accuracy: 0.8403 - val_loss: 0.3610 - val_accuracy: 0.8825 - 144ms/epoch - 2ms/step\n",
            "Epoch 97/100\n",
            "80/80 - 0s - loss: 0.4540 - accuracy: 0.8444 - val_loss: 0.3615 - val_accuracy: 0.8825 - 163ms/epoch - 2ms/step\n",
            "Epoch 98/100\n",
            "80/80 - 0s - loss: 0.4453 - accuracy: 0.8414 - val_loss: 0.3603 - val_accuracy: 0.8835 - 136ms/epoch - 2ms/step\n",
            "Epoch 99/100\n",
            "80/80 - 0s - loss: 0.4506 - accuracy: 0.8367 - val_loss: 0.3612 - val_accuracy: 0.8810 - 149ms/epoch - 2ms/step\n",
            "Epoch 100/100\n",
            "80/80 - 0s - loss: 0.4498 - accuracy: 0.8360 - val_loss: 0.3606 - val_accuracy: 0.8855 - 133ms/epoch - 2ms/step\n"
          ]
        }
      ]
    },
    {
      "cell_type": "code",
      "metadata": {
        "colab": {
          "base_uri": "https://localhost:8080/"
        },
        "id": "wcC64Zt0jHiZ",
        "outputId": "f3a77ca9-f9dc-4680-c6bb-1b73f543285d"
      },
      "source": [
        "scores=model.evaluate(X_test,y_test,verbose=1)\n",
        "print('Test Loss:', scores[0])\n",
        "print('Test Accuracy:', scores[1])"
      ],
      "execution_count": 41,
      "outputs": [
        {
          "output_type": "stream",
          "name": "stdout",
          "text": [
            "63/63 [==============================] - 0s 2ms/step - loss: 0.3393 - accuracy: 0.8970\n",
            "Test Loss: 0.33934691548347473\n",
            "Test Accuracy: 0.8970000147819519\n"
          ]
        }
      ]
    },
    {
      "cell_type": "code",
      "metadata": {
        "id": "a1GYn9FokIsU"
      },
      "source": [
        ""
      ],
      "execution_count": null,
      "outputs": []
    }
  ]
}